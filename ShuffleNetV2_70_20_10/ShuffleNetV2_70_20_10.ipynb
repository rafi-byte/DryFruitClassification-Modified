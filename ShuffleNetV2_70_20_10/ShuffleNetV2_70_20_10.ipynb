{
 "cells": [
  {
   "cell_type": "code",
   "execution_count": 1,
   "metadata": {
    "vscode": {
     "languageId": "plaintext"
    }
   },
   "outputs": [],
   "source": [
    "import os\n",
    "import shutil\n",
    "# from sklearn.model_selection import train_test_split\n",
    "import torch\n",
    "from torch import nn\n",
    "from torchvision import datasets, transforms\n",
    "from torch.utils.data import DataLoader\n"
   ]
  },
  {
   "cell_type": "code",
   "execution_count": 9,
   "metadata": {},
   "outputs": [
    {
     "name": "stdout",
     "output_type": "stream",
     "text": [
      "Requirement already satisfied: scikit-learn in d:\\program files\\python310\\lib\\site-packages (1.5.2)\n",
      "Requirement already satisfied: joblib>=1.2.0 in d:\\program files\\python310\\lib\\site-packages (from scikit-learn) (1.4.2)\n",
      "Requirement already satisfied: scipy>=1.6.0 in d:\\program files\\python310\\lib\\site-packages (from scikit-learn) (1.14.1)\n",
      "Requirement already satisfied: numpy>=1.19.5 in d:\\program files\\python310\\lib\\site-packages (from scikit-learn) (2.1.2)\n",
      "Requirement already satisfied: threadpoolctl>=3.1.0 in d:\\program files\\python310\\lib\\site-packages (from scikit-learn) (3.5.0)\n",
      "Note: you may need to restart the kernel to use updated packages.\n"
     ]
    },
    {
     "name": "stderr",
     "output_type": "stream",
     "text": [
      "WARNING: You are using pip version 21.2.3; however, version 24.2 is available.\n",
      "You should consider upgrading via the 'D:\\Program Files\\Python310\\python.exe -m pip install --upgrade pip' command.\n"
     ]
    }
   ],
   "source": [
    "pip install scikit-learn\n"
   ]
  },
  {
   "cell_type": "code",
   "execution_count": 2,
   "metadata": {},
   "outputs": [
    {
     "name": "stdout",
     "output_type": "stream",
     "text": [
      "Processing subcategory: ALMOND_MAMRA\n",
      "Moved 672 train images, 192 val images, and 96 test images for ALMOND_MAMRA\n",
      "Processing subcategory: ALMOND_REGULAR\n",
      "Moved 672 train images, 192 val images, and 96 test images for ALMOND_REGULAR\n",
      "Processing subcategory: ALMOND_SANORA\n",
      "Moved 672 train images, 192 val images, and 96 test images for ALMOND_SANORA\n",
      "Processing subcategory: CASHEW_JUMBO\n",
      "Moved 672 train images, 192 val images, and 96 test images for CASHEW_JUMBO\n",
      "Processing subcategory: CASHEW_REGULAR\n",
      "Moved 672 train images, 192 val images, and 96 test images for CASHEW_REGULAR\n",
      "Processing subcategory: CASHEW_SPECIAL\n",
      "Moved 672 train images, 192 val images, and 96 test images for CASHEW_SPECIAL\n",
      "Processing subcategory: FIG_JUMBO\n",
      "Moved 672 train images, 192 val images, and 96 test images for FIG_JUMBO\n",
      "Processing subcategory: FIG_MEDIUM\n",
      "Moved 672 train images, 192 val images, and 96 test images for FIG_MEDIUM\n",
      "Processing subcategory: FIG_SMALL\n",
      "Moved 672 train images, 192 val images, and 96 test images for FIG_SMALL\n",
      "Processing subcategory: RAISIN_BLACK\n",
      "Moved 672 train images, 192 val images, and 96 test images for RAISIN_BLACK\n",
      "Processing subcategory: RAISIN_GRADE1\n",
      "Moved 672 train images, 192 val images, and 96 test images for RAISIN_GRADE1\n",
      "Processing subcategory: RAISIN_PREMIUM\n",
      "Moved 672 train images, 192 val images, and 96 test images for RAISIN_PREMIUM\n"
     ]
    }
   ],
   "source": [
    "import os\n",
    "from sklearn.model_selection import train_test_split\n",
    "import shutil\n",
    "\n",
    "# Define the paths for the dataset\n",
    "dataset_dir = r\"E:\\PythonWithML\\MendelyDatasetNewSplit\\Dry Fruit Image Dataset\"\n",
    "\n",
    "# List of subcategories for each type of dry fruit\n",
    "categories = {\n",
    "    \"ALMOND\": [\"ALMOND_MAMRA\", \"ALMOND_REGULAR\", \"ALMOND_SANORA\"],\n",
    "    \"CASHEW\": [\"CASHEW_JUMBO\", \"CASHEW_REGULAR\", \"CASHEW_SPECIAL\"],\n",
    "    \"FIG\": [\"FIG_JUMBO\", \"FIG_MEDIUM\", \"FIG_SMALL\"],\n",
    "    \"RAISIN\": [\"RAISIN_BLACK\", \"RAISIN_GRADE1\", \"RAISIN_PREMIUM\"]\n",
    "}\n",
    "\n",
    "# Paths for the train, validation, and test directories\n",
    "train_dir = r'E:\\PythonWithML\\MendelyDatasetNewSplit\\ShuffleNetV2_70_20_10\\train'\n",
    "val_dir = r'E:\\PythonWithML\\MendelyDatasetNewSplit\\ShuffleNetV2_70_20_10\\val'\n",
    "test_dir = r'E:\\PythonWithML\\MendelyDatasetNewSplit\\ShuffleNetV2_70_20_10\\test'\n",
    "\n",
    "# Function to split dataset\n",
    "def split_dataset(dataset_dir, train_dir, val_dir, test_dir, categories, train_ratio=0.7, val_ratio=0.2, test_ratio=0.1):\n",
    "    # Create directories for train, val, and test if they don't exist\n",
    "    for dir_path in [train_dir, val_dir, test_dir]:\n",
    "        os.makedirs(dir_path, exist_ok=True)\n",
    "    \n",
    "    # Loop through each main category and its subcategories\n",
    "    for main_category, subcategories in categories.items():\n",
    "        for subcategory in subcategories:\n",
    "            subcategory_dir = os.path.join(dataset_dir, main_category, subcategory)\n",
    "            \n",
    "            if os.path.isdir(subcategory_dir):\n",
    "                print(f\"Processing subcategory: {subcategory}\")\n",
    "                images = os.listdir(subcategory_dir)\n",
    "                images = [img for img in images if img.endswith(('.png', '.jpg', '.jpeg'))]\n",
    "                \n",
    "                if not images:\n",
    "                    print(f\"No images found in {subcategory_dir}. Skipping...\")\n",
    "                    continue\n",
    "                \n",
    "                # Split images into train, val, and test sets\n",
    "                train_images, temp_images = train_test_split(images, train_size=train_ratio, random_state=42)\n",
    "                val_images, test_images = train_test_split(temp_images, test_size=test_ratio / (val_ratio + test_ratio), random_state=42)\n",
    "\n",
    "                # Function to move the images\n",
    "                def move_images(image_list, folder_name):\n",
    "                    class_folder = os.path.join(folder_name, subcategory)\n",
    "                    os.makedirs(class_folder, exist_ok=True)\n",
    "                    \n",
    "                    for img in image_list:\n",
    "                        src = os.path.join(subcategory_dir, img)\n",
    "                        dst = os.path.join(class_folder, img)\n",
    "                        shutil.copy(src, dst)\n",
    "\n",
    "                # Move the images to respective folders\n",
    "                move_images(train_images, train_dir)\n",
    "                move_images(val_images, val_dir)\n",
    "                move_images(test_images, test_dir)\n",
    "                \n",
    "                print(f\"Moved {len(train_images)} train images, {len(val_images)} val images, and {len(test_images)} test images for {subcategory}\")\n",
    "\n",
    "# Split the dataset\n",
    "split_dataset(dataset_dir, train_dir, val_dir, test_dir, categories)\n"
   ]
  },
  {
   "cell_type": "code",
   "execution_count": 11,
   "metadata": {},
   "outputs": [],
   "source": [
    "import os\n",
    "from sklearn.model_selection import train_test_split\n",
    "import shutil\n",
    "from torchvision import datasets, transforms\n",
    "from torch.utils.data import DataLoader\n",
    "\n",
    "# Paths for the train, validation, and test directories\n",
    "train_dir = r'E:\\PythonWithML\\MendelyDatasetNewSplit\\ShuffleNetV2_70_20_10\\train'\n",
    "val_dir = r'E:\\PythonWithML\\MendelyDatasetNewSplit\\ShuffleNetV2_70_20_10\\val'\n",
    "test_dir = r'E:\\PythonWithML\\MendelyDatasetNewSplit\\ShuffleNetV2_70_20_10\\test'\n",
    "\n",
    "# Define transformations for training, validation, and testing datasets\n",
    "# train_transforms = transforms.Compose([\n",
    "#     transforms.RandomResizedCrop(224),\n",
    "#     transforms.RandomRotation(20),  # Consider reducing aggressive rotations\n",
    "#     transforms.RandomHorizontalFlip(),\n",
    "#     transforms.RandomAffine(degrees=0, shear=0.1, scale=(0.9, 1.1)),  # Lighter affine transformation\n",
    "#     transforms.ToTensor(),\n",
    "#     transforms.Normalize([0.485, 0.456, 0.406], [0.229, 0.224, 0.225])\n",
    "# ])\n",
    "train_transforms = transforms.Compose([\n",
    "    transforms.Resize(256),\n",
    "    transforms.CenterCrop(224),\n",
    "    transforms.RandomRotation(20),  # Consider reducing aggressive rotations\n",
    "    transforms.RandomHorizontalFlip(),\n",
    "    transforms.RandomAffine(degrees=0, shear=0.1, scale=(0.9, 1.1)),  # Lighter affine transformation\n",
    "    transforms.ToTensor(),\n",
    "    transforms.Normalize(mean=[0.485, 0.456, 0.406], std=[0.229, 0.224, 0.225])\n",
    "])\n",
    "# val_test_transforms = transforms.Compose([\n",
    "#     transforms.Resize((224, 224)),\n",
    "#     transforms.ToTensor(),\n",
    "#     transforms.Normalize([0.485, 0.456, 0.406], [0.229, 0.224, 0.225])\n",
    "# ])\n",
    "val_test_transforms = transforms.Compose([\n",
    "    transforms.Resize(256),\n",
    "    transforms.CenterCrop(224),\n",
    "    transforms.ToTensor(),\n",
    "    transforms.Normalize(mean=[0.485, 0.456, 0.406], std=[0.229, 0.224, 0.225])\n",
    "])\n",
    "\n",
    "# Load datasets\n",
    "train_dataset = datasets.ImageFolder(root=train_dir, transform=train_transforms)\n",
    "val_dataset = datasets.ImageFolder(root=val_dir, transform=val_test_transforms)\n",
    "test_dataset = datasets.ImageFolder(root=test_dir, transform=val_test_transforms)\n",
    "\n",
    "# Data loaders\n",
    "train_loader = DataLoader(train_dataset, batch_size=32, shuffle=True, drop_last=True)\n",
    "val_loader = DataLoader(val_dataset, batch_size=32, shuffle=False, drop_last=True)\n",
    "test_loader = DataLoader(test_dataset, batch_size=32, shuffle=False, drop_last=True)\n"
   ]
  },
  {
   "cell_type": "code",
   "execution_count": 14,
   "metadata": {},
   "outputs": [
    {
     "name": "stderr",
     "output_type": "stream",
     "text": [
      "Using cache found in C:\\Users\\Administrator/.cache\\torch\\hub\\pytorch_vision_v0.10.0\n"
     ]
    }
   ],
   "source": [
    "import torch\n",
    "from torch import nn\n",
    "\n",
    "num_classes = 12  # Number of classes in the dataset\n",
    "\n",
    "# Load pre-trained ShuffleNetV2 model\n",
    "model = torch.hub.load('pytorch/vision:v0.10.0', 'shufflenet_v2_x1_0', pretrained=True)\n",
    "\n",
    "# Access the input features of the classifier layer\n",
    "num_features = model.fc.in_features  # Get the number of input features for the last layer\n",
    "\n",
    "# Modify the classifier to fit the number of output classes\n",
    "model.fc = nn.Sequential(\n",
    "    nn.Dropout(p=0.5),\n",
    "    nn.Linear(num_features, num_classes)  # Adjust to the number of classes\n",
    ")\n",
    "\n",
    "\n"
   ]
  },
  {
   "cell_type": "code",
   "execution_count": 15,
   "metadata": {},
   "outputs": [
    {
     "data": {
      "text/plain": [
       "ShuffleNetV2(\n",
       "  (conv1): Sequential(\n",
       "    (0): Conv2d(3, 24, kernel_size=(3, 3), stride=(2, 2), padding=(1, 1), bias=False)\n",
       "    (1): BatchNorm2d(24, eps=1e-05, momentum=0.1, affine=True, track_running_stats=True)\n",
       "    (2): ReLU(inplace=True)\n",
       "  )\n",
       "  (maxpool): MaxPool2d(kernel_size=3, stride=2, padding=1, dilation=1, ceil_mode=False)\n",
       "  (stage2): Sequential(\n",
       "    (0): InvertedResidual(\n",
       "      (branch1): Sequential(\n",
       "        (0): Conv2d(24, 24, kernel_size=(3, 3), stride=(2, 2), padding=(1, 1), groups=24, bias=False)\n",
       "        (1): BatchNorm2d(24, eps=1e-05, momentum=0.1, affine=True, track_running_stats=True)\n",
       "        (2): Conv2d(24, 58, kernel_size=(1, 1), stride=(1, 1), bias=False)\n",
       "        (3): BatchNorm2d(58, eps=1e-05, momentum=0.1, affine=True, track_running_stats=True)\n",
       "        (4): ReLU(inplace=True)\n",
       "      )\n",
       "      (branch2): Sequential(\n",
       "        (0): Conv2d(24, 58, kernel_size=(1, 1), stride=(1, 1), bias=False)\n",
       "        (1): BatchNorm2d(58, eps=1e-05, momentum=0.1, affine=True, track_running_stats=True)\n",
       "        (2): ReLU(inplace=True)\n",
       "        (3): Conv2d(58, 58, kernel_size=(3, 3), stride=(2, 2), padding=(1, 1), groups=58, bias=False)\n",
       "        (4): BatchNorm2d(58, eps=1e-05, momentum=0.1, affine=True, track_running_stats=True)\n",
       "        (5): Conv2d(58, 58, kernel_size=(1, 1), stride=(1, 1), bias=False)\n",
       "        (6): BatchNorm2d(58, eps=1e-05, momentum=0.1, affine=True, track_running_stats=True)\n",
       "        (7): ReLU(inplace=True)\n",
       "      )\n",
       "    )\n",
       "    (1): InvertedResidual(\n",
       "      (branch1): Sequential()\n",
       "      (branch2): Sequential(\n",
       "        (0): Conv2d(58, 58, kernel_size=(1, 1), stride=(1, 1), bias=False)\n",
       "        (1): BatchNorm2d(58, eps=1e-05, momentum=0.1, affine=True, track_running_stats=True)\n",
       "        (2): ReLU(inplace=True)\n",
       "        (3): Conv2d(58, 58, kernel_size=(3, 3), stride=(1, 1), padding=(1, 1), groups=58, bias=False)\n",
       "        (4): BatchNorm2d(58, eps=1e-05, momentum=0.1, affine=True, track_running_stats=True)\n",
       "        (5): Conv2d(58, 58, kernel_size=(1, 1), stride=(1, 1), bias=False)\n",
       "        (6): BatchNorm2d(58, eps=1e-05, momentum=0.1, affine=True, track_running_stats=True)\n",
       "        (7): ReLU(inplace=True)\n",
       "      )\n",
       "    )\n",
       "    (2): InvertedResidual(\n",
       "      (branch1): Sequential()\n",
       "      (branch2): Sequential(\n",
       "        (0): Conv2d(58, 58, kernel_size=(1, 1), stride=(1, 1), bias=False)\n",
       "        (1): BatchNorm2d(58, eps=1e-05, momentum=0.1, affine=True, track_running_stats=True)\n",
       "        (2): ReLU(inplace=True)\n",
       "        (3): Conv2d(58, 58, kernel_size=(3, 3), stride=(1, 1), padding=(1, 1), groups=58, bias=False)\n",
       "        (4): BatchNorm2d(58, eps=1e-05, momentum=0.1, affine=True, track_running_stats=True)\n",
       "        (5): Conv2d(58, 58, kernel_size=(1, 1), stride=(1, 1), bias=False)\n",
       "        (6): BatchNorm2d(58, eps=1e-05, momentum=0.1, affine=True, track_running_stats=True)\n",
       "        (7): ReLU(inplace=True)\n",
       "      )\n",
       "    )\n",
       "    (3): InvertedResidual(\n",
       "      (branch1): Sequential()\n",
       "      (branch2): Sequential(\n",
       "        (0): Conv2d(58, 58, kernel_size=(1, 1), stride=(1, 1), bias=False)\n",
       "        (1): BatchNorm2d(58, eps=1e-05, momentum=0.1, affine=True, track_running_stats=True)\n",
       "        (2): ReLU(inplace=True)\n",
       "        (3): Conv2d(58, 58, kernel_size=(3, 3), stride=(1, 1), padding=(1, 1), groups=58, bias=False)\n",
       "        (4): BatchNorm2d(58, eps=1e-05, momentum=0.1, affine=True, track_running_stats=True)\n",
       "        (5): Conv2d(58, 58, kernel_size=(1, 1), stride=(1, 1), bias=False)\n",
       "        (6): BatchNorm2d(58, eps=1e-05, momentum=0.1, affine=True, track_running_stats=True)\n",
       "        (7): ReLU(inplace=True)\n",
       "      )\n",
       "    )\n",
       "  )\n",
       "  (stage3): Sequential(\n",
       "    (0): InvertedResidual(\n",
       "      (branch1): Sequential(\n",
       "        (0): Conv2d(116, 116, kernel_size=(3, 3), stride=(2, 2), padding=(1, 1), groups=116, bias=False)\n",
       "        (1): BatchNorm2d(116, eps=1e-05, momentum=0.1, affine=True, track_running_stats=True)\n",
       "        (2): Conv2d(116, 116, kernel_size=(1, 1), stride=(1, 1), bias=False)\n",
       "        (3): BatchNorm2d(116, eps=1e-05, momentum=0.1, affine=True, track_running_stats=True)\n",
       "        (4): ReLU(inplace=True)\n",
       "      )\n",
       "      (branch2): Sequential(\n",
       "        (0): Conv2d(116, 116, kernel_size=(1, 1), stride=(1, 1), bias=False)\n",
       "        (1): BatchNorm2d(116, eps=1e-05, momentum=0.1, affine=True, track_running_stats=True)\n",
       "        (2): ReLU(inplace=True)\n",
       "        (3): Conv2d(116, 116, kernel_size=(3, 3), stride=(2, 2), padding=(1, 1), groups=116, bias=False)\n",
       "        (4): BatchNorm2d(116, eps=1e-05, momentum=0.1, affine=True, track_running_stats=True)\n",
       "        (5): Conv2d(116, 116, kernel_size=(1, 1), stride=(1, 1), bias=False)\n",
       "        (6): BatchNorm2d(116, eps=1e-05, momentum=0.1, affine=True, track_running_stats=True)\n",
       "        (7): ReLU(inplace=True)\n",
       "      )\n",
       "    )\n",
       "    (1): InvertedResidual(\n",
       "      (branch1): Sequential()\n",
       "      (branch2): Sequential(\n",
       "        (0): Conv2d(116, 116, kernel_size=(1, 1), stride=(1, 1), bias=False)\n",
       "        (1): BatchNorm2d(116, eps=1e-05, momentum=0.1, affine=True, track_running_stats=True)\n",
       "        (2): ReLU(inplace=True)\n",
       "        (3): Conv2d(116, 116, kernel_size=(3, 3), stride=(1, 1), padding=(1, 1), groups=116, bias=False)\n",
       "        (4): BatchNorm2d(116, eps=1e-05, momentum=0.1, affine=True, track_running_stats=True)\n",
       "        (5): Conv2d(116, 116, kernel_size=(1, 1), stride=(1, 1), bias=False)\n",
       "        (6): BatchNorm2d(116, eps=1e-05, momentum=0.1, affine=True, track_running_stats=True)\n",
       "        (7): ReLU(inplace=True)\n",
       "      )\n",
       "    )\n",
       "    (2): InvertedResidual(\n",
       "      (branch1): Sequential()\n",
       "      (branch2): Sequential(\n",
       "        (0): Conv2d(116, 116, kernel_size=(1, 1), stride=(1, 1), bias=False)\n",
       "        (1): BatchNorm2d(116, eps=1e-05, momentum=0.1, affine=True, track_running_stats=True)\n",
       "        (2): ReLU(inplace=True)\n",
       "        (3): Conv2d(116, 116, kernel_size=(3, 3), stride=(1, 1), padding=(1, 1), groups=116, bias=False)\n",
       "        (4): BatchNorm2d(116, eps=1e-05, momentum=0.1, affine=True, track_running_stats=True)\n",
       "        (5): Conv2d(116, 116, kernel_size=(1, 1), stride=(1, 1), bias=False)\n",
       "        (6): BatchNorm2d(116, eps=1e-05, momentum=0.1, affine=True, track_running_stats=True)\n",
       "        (7): ReLU(inplace=True)\n",
       "      )\n",
       "    )\n",
       "    (3): InvertedResidual(\n",
       "      (branch1): Sequential()\n",
       "      (branch2): Sequential(\n",
       "        (0): Conv2d(116, 116, kernel_size=(1, 1), stride=(1, 1), bias=False)\n",
       "        (1): BatchNorm2d(116, eps=1e-05, momentum=0.1, affine=True, track_running_stats=True)\n",
       "        (2): ReLU(inplace=True)\n",
       "        (3): Conv2d(116, 116, kernel_size=(3, 3), stride=(1, 1), padding=(1, 1), groups=116, bias=False)\n",
       "        (4): BatchNorm2d(116, eps=1e-05, momentum=0.1, affine=True, track_running_stats=True)\n",
       "        (5): Conv2d(116, 116, kernel_size=(1, 1), stride=(1, 1), bias=False)\n",
       "        (6): BatchNorm2d(116, eps=1e-05, momentum=0.1, affine=True, track_running_stats=True)\n",
       "        (7): ReLU(inplace=True)\n",
       "      )\n",
       "    )\n",
       "    (4): InvertedResidual(\n",
       "      (branch1): Sequential()\n",
       "      (branch2): Sequential(\n",
       "        (0): Conv2d(116, 116, kernel_size=(1, 1), stride=(1, 1), bias=False)\n",
       "        (1): BatchNorm2d(116, eps=1e-05, momentum=0.1, affine=True, track_running_stats=True)\n",
       "        (2): ReLU(inplace=True)\n",
       "        (3): Conv2d(116, 116, kernel_size=(3, 3), stride=(1, 1), padding=(1, 1), groups=116, bias=False)\n",
       "        (4): BatchNorm2d(116, eps=1e-05, momentum=0.1, affine=True, track_running_stats=True)\n",
       "        (5): Conv2d(116, 116, kernel_size=(1, 1), stride=(1, 1), bias=False)\n",
       "        (6): BatchNorm2d(116, eps=1e-05, momentum=0.1, affine=True, track_running_stats=True)\n",
       "        (7): ReLU(inplace=True)\n",
       "      )\n",
       "    )\n",
       "    (5): InvertedResidual(\n",
       "      (branch1): Sequential()\n",
       "      (branch2): Sequential(\n",
       "        (0): Conv2d(116, 116, kernel_size=(1, 1), stride=(1, 1), bias=False)\n",
       "        (1): BatchNorm2d(116, eps=1e-05, momentum=0.1, affine=True, track_running_stats=True)\n",
       "        (2): ReLU(inplace=True)\n",
       "        (3): Conv2d(116, 116, kernel_size=(3, 3), stride=(1, 1), padding=(1, 1), groups=116, bias=False)\n",
       "        (4): BatchNorm2d(116, eps=1e-05, momentum=0.1, affine=True, track_running_stats=True)\n",
       "        (5): Conv2d(116, 116, kernel_size=(1, 1), stride=(1, 1), bias=False)\n",
       "        (6): BatchNorm2d(116, eps=1e-05, momentum=0.1, affine=True, track_running_stats=True)\n",
       "        (7): ReLU(inplace=True)\n",
       "      )\n",
       "    )\n",
       "    (6): InvertedResidual(\n",
       "      (branch1): Sequential()\n",
       "      (branch2): Sequential(\n",
       "        (0): Conv2d(116, 116, kernel_size=(1, 1), stride=(1, 1), bias=False)\n",
       "        (1): BatchNorm2d(116, eps=1e-05, momentum=0.1, affine=True, track_running_stats=True)\n",
       "        (2): ReLU(inplace=True)\n",
       "        (3): Conv2d(116, 116, kernel_size=(3, 3), stride=(1, 1), padding=(1, 1), groups=116, bias=False)\n",
       "        (4): BatchNorm2d(116, eps=1e-05, momentum=0.1, affine=True, track_running_stats=True)\n",
       "        (5): Conv2d(116, 116, kernel_size=(1, 1), stride=(1, 1), bias=False)\n",
       "        (6): BatchNorm2d(116, eps=1e-05, momentum=0.1, affine=True, track_running_stats=True)\n",
       "        (7): ReLU(inplace=True)\n",
       "      )\n",
       "    )\n",
       "    (7): InvertedResidual(\n",
       "      (branch1): Sequential()\n",
       "      (branch2): Sequential(\n",
       "        (0): Conv2d(116, 116, kernel_size=(1, 1), stride=(1, 1), bias=False)\n",
       "        (1): BatchNorm2d(116, eps=1e-05, momentum=0.1, affine=True, track_running_stats=True)\n",
       "        (2): ReLU(inplace=True)\n",
       "        (3): Conv2d(116, 116, kernel_size=(3, 3), stride=(1, 1), padding=(1, 1), groups=116, bias=False)\n",
       "        (4): BatchNorm2d(116, eps=1e-05, momentum=0.1, affine=True, track_running_stats=True)\n",
       "        (5): Conv2d(116, 116, kernel_size=(1, 1), stride=(1, 1), bias=False)\n",
       "        (6): BatchNorm2d(116, eps=1e-05, momentum=0.1, affine=True, track_running_stats=True)\n",
       "        (7): ReLU(inplace=True)\n",
       "      )\n",
       "    )\n",
       "  )\n",
       "  (stage4): Sequential(\n",
       "    (0): InvertedResidual(\n",
       "      (branch1): Sequential(\n",
       "        (0): Conv2d(232, 232, kernel_size=(3, 3), stride=(2, 2), padding=(1, 1), groups=232, bias=False)\n",
       "        (1): BatchNorm2d(232, eps=1e-05, momentum=0.1, affine=True, track_running_stats=True)\n",
       "        (2): Conv2d(232, 232, kernel_size=(1, 1), stride=(1, 1), bias=False)\n",
       "        (3): BatchNorm2d(232, eps=1e-05, momentum=0.1, affine=True, track_running_stats=True)\n",
       "        (4): ReLU(inplace=True)\n",
       "      )\n",
       "      (branch2): Sequential(\n",
       "        (0): Conv2d(232, 232, kernel_size=(1, 1), stride=(1, 1), bias=False)\n",
       "        (1): BatchNorm2d(232, eps=1e-05, momentum=0.1, affine=True, track_running_stats=True)\n",
       "        (2): ReLU(inplace=True)\n",
       "        (3): Conv2d(232, 232, kernel_size=(3, 3), stride=(2, 2), padding=(1, 1), groups=232, bias=False)\n",
       "        (4): BatchNorm2d(232, eps=1e-05, momentum=0.1, affine=True, track_running_stats=True)\n",
       "        (5): Conv2d(232, 232, kernel_size=(1, 1), stride=(1, 1), bias=False)\n",
       "        (6): BatchNorm2d(232, eps=1e-05, momentum=0.1, affine=True, track_running_stats=True)\n",
       "        (7): ReLU(inplace=True)\n",
       "      )\n",
       "    )\n",
       "    (1): InvertedResidual(\n",
       "      (branch1): Sequential()\n",
       "      (branch2): Sequential(\n",
       "        (0): Conv2d(232, 232, kernel_size=(1, 1), stride=(1, 1), bias=False)\n",
       "        (1): BatchNorm2d(232, eps=1e-05, momentum=0.1, affine=True, track_running_stats=True)\n",
       "        (2): ReLU(inplace=True)\n",
       "        (3): Conv2d(232, 232, kernel_size=(3, 3), stride=(1, 1), padding=(1, 1), groups=232, bias=False)\n",
       "        (4): BatchNorm2d(232, eps=1e-05, momentum=0.1, affine=True, track_running_stats=True)\n",
       "        (5): Conv2d(232, 232, kernel_size=(1, 1), stride=(1, 1), bias=False)\n",
       "        (6): BatchNorm2d(232, eps=1e-05, momentum=0.1, affine=True, track_running_stats=True)\n",
       "        (7): ReLU(inplace=True)\n",
       "      )\n",
       "    )\n",
       "    (2): InvertedResidual(\n",
       "      (branch1): Sequential()\n",
       "      (branch2): Sequential(\n",
       "        (0): Conv2d(232, 232, kernel_size=(1, 1), stride=(1, 1), bias=False)\n",
       "        (1): BatchNorm2d(232, eps=1e-05, momentum=0.1, affine=True, track_running_stats=True)\n",
       "        (2): ReLU(inplace=True)\n",
       "        (3): Conv2d(232, 232, kernel_size=(3, 3), stride=(1, 1), padding=(1, 1), groups=232, bias=False)\n",
       "        (4): BatchNorm2d(232, eps=1e-05, momentum=0.1, affine=True, track_running_stats=True)\n",
       "        (5): Conv2d(232, 232, kernel_size=(1, 1), stride=(1, 1), bias=False)\n",
       "        (6): BatchNorm2d(232, eps=1e-05, momentum=0.1, affine=True, track_running_stats=True)\n",
       "        (7): ReLU(inplace=True)\n",
       "      )\n",
       "    )\n",
       "    (3): InvertedResidual(\n",
       "      (branch1): Sequential()\n",
       "      (branch2): Sequential(\n",
       "        (0): Conv2d(232, 232, kernel_size=(1, 1), stride=(1, 1), bias=False)\n",
       "        (1): BatchNorm2d(232, eps=1e-05, momentum=0.1, affine=True, track_running_stats=True)\n",
       "        (2): ReLU(inplace=True)\n",
       "        (3): Conv2d(232, 232, kernel_size=(3, 3), stride=(1, 1), padding=(1, 1), groups=232, bias=False)\n",
       "        (4): BatchNorm2d(232, eps=1e-05, momentum=0.1, affine=True, track_running_stats=True)\n",
       "        (5): Conv2d(232, 232, kernel_size=(1, 1), stride=(1, 1), bias=False)\n",
       "        (6): BatchNorm2d(232, eps=1e-05, momentum=0.1, affine=True, track_running_stats=True)\n",
       "        (7): ReLU(inplace=True)\n",
       "      )\n",
       "    )\n",
       "  )\n",
       "  (conv5): Sequential(\n",
       "    (0): Conv2d(464, 1024, kernel_size=(1, 1), stride=(1, 1), bias=False)\n",
       "    (1): BatchNorm2d(1024, eps=1e-05, momentum=0.1, affine=True, track_running_stats=True)\n",
       "    (2): ReLU(inplace=True)\n",
       "  )\n",
       "  (fc): Sequential(\n",
       "    (0): Dropout(p=0.5, inplace=False)\n",
       "    (1): Linear(in_features=1024, out_features=12, bias=True)\n",
       "  )\n",
       ")"
      ]
     },
     "execution_count": 15,
     "metadata": {},
     "output_type": "execute_result"
    }
   ],
   "source": [
    "model\n"
   ]
  },
  {
   "cell_type": "code",
   "execution_count": null,
   "metadata": {},
   "outputs": [],
   "source": [
    "# # without earky stopping\n",
    "# import torch\n",
    "# from torch import nn, optim\n",
    "# from tqdm import tqdm\n",
    "# import matplotlib.pyplot as plt\n",
    "\n",
    "# # Loss function and optimizer\n",
    "# criterion = nn.CrossEntropyLoss()  # For multi-class classification\n",
    "# optimizer = optim.Adam(model.parameters(), lr=0.0001)\n",
    "\n",
    "# # Move the model to GPU if available\n",
    "# device = torch.device(\"cuda\" if torch.cuda.is_available() else \"cpu\")\n",
    "# print(f\"Training on: {device}\")\n",
    "# model.to(device)\n",
    "\n",
    "# # Training loop\n",
    "# num_epochs = 50  # Set your desired number of epochs\n",
    "\n",
    "# # For tracking accuracy and loss\n",
    "# train_acc_history = []\n",
    "# val_acc_history = []\n",
    "# train_loss_history = []\n",
    "# val_loss_history = []\n",
    "\n",
    "# best_accuracy = 0\n",
    "\n",
    "# for epoch in range(num_epochs):\n",
    "#     model.train()  # Set the model to training mode\n",
    "#     running_loss = 0.0\n",
    "#     correct_train = 0\n",
    "#     total_train = 0\n",
    "\n",
    "#     # Use tqdm for tracking batches inside the epoch\n",
    "#     progress_bar = tqdm(train_loader, desc=f'Epoch {epoch+1}/{num_epochs}')\n",
    "    \n",
    "#     for images, labels in progress_bar:\n",
    "#         # Move data to GPU if available\n",
    "#         images, labels = images.to(device), labels.to(device)\n",
    "        \n",
    "#         # Zero the parameter gradients\n",
    "#         optimizer.zero_grad()\n",
    "        \n",
    "#         # Forward pass\n",
    "#         outputs = model(images)\n",
    "#         loss = criterion(outputs, labels)\n",
    "        \n",
    "#         # Backward pass and optimization\n",
    "#         loss.backward()\n",
    "#         optimizer.step()\n",
    "        \n",
    "#         # Accumulate loss\n",
    "#         running_loss += loss.item()\n",
    "        \n",
    "#         # Predictions and accuracy calculation\n",
    "#         _, predicted = torch.max(outputs, 1)\n",
    "#         total_train += labels.size(0)\n",
    "#         correct_train += (predicted == labels).sum().item()\n",
    "        \n",
    "#         # Update the progress bar description with current loss\n",
    "#         progress_bar.set_postfix(loss=running_loss/len(train_loader))\n",
    "    \n",
    "#     # Calculate training accuracy and loss\n",
    "#     train_loss = running_loss / len(train_loader)\n",
    "#     train_accuracy = 100 * correct_train / total_train\n",
    "    \n",
    "#     # Append for later plotting\n",
    "#     train_acc_history.append(train_accuracy)\n",
    "#     train_loss_history.append(train_loss)\n",
    "\n",
    "#     # Validation phase\n",
    "#     model.eval()  # Set the model to evaluation mode\n",
    "#     correct_val = 0\n",
    "#     total_val = 0\n",
    "#     running_val_loss = 0.0\n",
    "    \n",
    "#     with torch.no_grad():\n",
    "#         for images, labels in val_loader:\n",
    "#             images, labels = images.to(device), labels.to(device)\n",
    "#             outputs = model(images)\n",
    "#             val_loss = criterion(outputs, labels)\n",
    "#             running_val_loss += val_loss.item()\n",
    "            \n",
    "#             _, predicted = torch.max(outputs, 1)\n",
    "#             total_val += labels.size(0)\n",
    "#             correct_val += (predicted == labels).sum().item()\n",
    "    \n",
    "#     # Calculate validation accuracy and loss\n",
    "#     val_loss = running_val_loss / len(val_loader)\n",
    "#     val_accuracy = 100 * correct_val / total_val\n",
    "    \n",
    "#     # Append for later plotting\n",
    "#     val_acc_history.append(val_accuracy)\n",
    "#     val_loss_history.append(val_loss)\n",
    "    \n",
    "#     # Print epoch statistics\n",
    "#     print(f'Epoch [{epoch+1}/{num_epochs}], Loss: {train_loss:.4f}, Accuracy: {train_accuracy:.2f}% | '\n",
    "#           f'Val Loss: {val_loss:.4f}, Val Accuracy: {val_accuracy:.2f}%')\n",
    "\n",
    "#     # Save the best model\n",
    "#     if val_accuracy > best_accuracy:\n",
    "#         torch.save(model.state_dict(), f\"best_model_epoch_{epoch+1}_val_acc_{val_accuracy:.2f}.pth\")\n",
    "#         print(f\"Best model saved with validation accuracy: {val_accuracy:.2f}% at epoch {epoch+1}\")\n",
    "#         best_accuracy = val_accuracy\n",
    "\n",
    "# # Plot training and validation accuracy\n",
    "# plt.figure(figsize=(12, 4))\n",
    "# plt.subplot(1, 2, 1)\n",
    "# plt.plot(train_acc_history, label='Train Accuracy')\n",
    "# plt.plot(val_acc_history, label='Validation Accuracy')\n",
    "# plt.xlabel('Epochs')\n",
    "# plt.ylabel('Accuracy')\n",
    "# plt.legend()\n",
    "\n",
    "# # Plot training and validation loss\n",
    "# plt.subplot(1, 2, 2)\n",
    "# plt.plot(train_loss_history, label='Train Loss')\n",
    "# plt.plot(val_loss_history, label='Validation Loss')\n",
    "# plt.xlabel('Epochs')\n",
    "# plt.ylabel('Loss')\n",
    "# plt.legend()\n",
    "\n",
    "# plt.show()"
   ]
  },
  {
   "cell_type": "code",
   "execution_count": 16,
   "metadata": {},
   "outputs": [
    {
     "name": "stdout",
     "output_type": "stream",
     "text": [
      "Training on: cpu\n"
     ]
    },
    {
     "name": "stderr",
     "output_type": "stream",
     "text": [
      "Epoch 1/50: 100%|████████████████████████████████████| 252/252 [05:32<00:00,  1.32s/it, loss=2.19]\n"
     ]
    },
    {
     "name": "stdout",
     "output_type": "stream",
     "text": [
      "Epoch [1/50], Loss: 2.1944, Accuracy: 38.64% | Val Loss: 1.5856, Val Accuracy: 44.53%\n",
      "Best model saved with validation accuracy: 44.53% at epoch 1\n"
     ]
    },
    {
     "name": "stderr",
     "output_type": "stream",
     "text": [
      "Epoch 2/50: 100%|████████████████████████████████████| 252/252 [04:44<00:00,  1.13s/it, loss=1.32]\n"
     ]
    },
    {
     "name": "stdout",
     "output_type": "stream",
     "text": [
      "Epoch [2/50], Loss: 1.3168, Accuracy: 51.57% | Val Loss: 0.9953, Val Accuracy: 63.93%\n",
      "Best model saved with validation accuracy: 63.93% at epoch 2\n"
     ]
    },
    {
     "name": "stderr",
     "output_type": "stream",
     "text": [
      "Epoch 3/50: 100%|███████████████████████████████████| 252/252 [04:38<00:00,  1.10s/it, loss=0.897]\n"
     ]
    },
    {
     "name": "stdout",
     "output_type": "stream",
     "text": [
      "Epoch [3/50], Loss: 0.8966, Accuracy: 64.38% | Val Loss: 0.6912, Val Accuracy: 68.75%\n",
      "Best model saved with validation accuracy: 68.75% at epoch 3\n"
     ]
    },
    {
     "name": "stderr",
     "output_type": "stream",
     "text": [
      "Epoch 4/50: 100%|███████████████████████████████████| 252/252 [04:40<00:00,  1.11s/it, loss=0.711]\n"
     ]
    },
    {
     "name": "stdout",
     "output_type": "stream",
     "text": [
      "Epoch [4/50], Loss: 0.7107, Accuracy: 70.28% | Val Loss: 0.5578, Val Accuracy: 78.73%\n",
      "Best model saved with validation accuracy: 78.73% at epoch 4\n"
     ]
    },
    {
     "name": "stderr",
     "output_type": "stream",
     "text": [
      "Epoch 5/50: 100%|███████████████████████████████████| 252/252 [04:39<00:00,  1.11s/it, loss=0.599]\n"
     ]
    },
    {
     "name": "stdout",
     "output_type": "stream",
     "text": [
      "Epoch [5/50], Loss: 0.5988, Accuracy: 76.14% | Val Loss: 0.4688, Val Accuracy: 81.08%\n",
      "Best model saved with validation accuracy: 81.08% at epoch 5\n"
     ]
    },
    {
     "name": "stderr",
     "output_type": "stream",
     "text": [
      "Epoch 6/50: 100%|███████████████████████████████████| 252/252 [04:40<00:00,  1.11s/it, loss=0.482]\n"
     ]
    },
    {
     "name": "stdout",
     "output_type": "stream",
     "text": [
      "Epoch [6/50], Loss: 0.4824, Accuracy: 82.91% | Val Loss: 0.3314, Val Accuracy: 88.59%\n",
      "Best model saved with validation accuracy: 88.59% at epoch 6\n"
     ]
    },
    {
     "name": "stderr",
     "output_type": "stream",
     "text": [
      "Epoch 7/50: 100%|███████████████████████████████████| 252/252 [04:38<00:00,  1.11s/it, loss=0.394]\n"
     ]
    },
    {
     "name": "stdout",
     "output_type": "stream",
     "text": [
      "Epoch [7/50], Loss: 0.3945, Accuracy: 86.22% | Val Loss: 0.2510, Val Accuracy: 92.01%\n",
      "Best model saved with validation accuracy: 92.01% at epoch 7\n"
     ]
    },
    {
     "name": "stderr",
     "output_type": "stream",
     "text": [
      "Epoch 8/50: 100%|███████████████████████████████████| 252/252 [04:51<00:00,  1.16s/it, loss=0.315]\n"
     ]
    },
    {
     "name": "stdout",
     "output_type": "stream",
     "text": [
      "Epoch [8/50], Loss: 0.3150, Accuracy: 89.09% | Val Loss: 0.2058, Val Accuracy: 93.23%\n",
      "Best model saved with validation accuracy: 93.23% at epoch 8\n"
     ]
    },
    {
     "name": "stderr",
     "output_type": "stream",
     "text": [
      "Epoch 9/50: 100%|███████████████████████████████████| 252/252 [04:37<00:00,  1.10s/it, loss=0.263]\n"
     ]
    },
    {
     "name": "stdout",
     "output_type": "stream",
     "text": [
      "Epoch [9/50], Loss: 0.2629, Accuracy: 91.83% | Val Loss: 0.1578, Val Accuracy: 94.88%\n",
      "Best model saved with validation accuracy: 94.88% at epoch 9\n"
     ]
    },
    {
     "name": "stderr",
     "output_type": "stream",
     "text": [
      "Epoch 10/50: 100%|███████████████████████████████████| 252/252 [04:35<00:00,  1.09s/it, loss=0.21]\n"
     ]
    },
    {
     "name": "stdout",
     "output_type": "stream",
     "text": [
      "Epoch [10/50], Loss: 0.2102, Accuracy: 93.35% | Val Loss: 0.1221, Val Accuracy: 96.27%\n",
      "Best model saved with validation accuracy: 96.27% at epoch 10\n"
     ]
    },
    {
     "name": "stderr",
     "output_type": "stream",
     "text": [
      "Epoch 11/50: 100%|██████████████████████████████████| 252/252 [04:33<00:00,  1.09s/it, loss=0.184]\n"
     ]
    },
    {
     "name": "stdout",
     "output_type": "stream",
     "text": [
      "Epoch [11/50], Loss: 0.1837, Accuracy: 94.20% | Val Loss: 0.1107, Val Accuracy: 96.31%\n",
      "Best model saved with validation accuracy: 96.31% at epoch 11\n"
     ]
    },
    {
     "name": "stderr",
     "output_type": "stream",
     "text": [
      "Epoch 12/50: 100%|██████████████████████████████████| 252/252 [04:32<00:00,  1.08s/it, loss=0.154]\n"
     ]
    },
    {
     "name": "stdout",
     "output_type": "stream",
     "text": [
      "Epoch [12/50], Loss: 0.1539, Accuracy: 95.03% | Val Loss: 0.0809, Val Accuracy: 97.27%\n",
      "Best model saved with validation accuracy: 97.27% at epoch 12\n"
     ]
    },
    {
     "name": "stderr",
     "output_type": "stream",
     "text": [
      "Epoch 13/50: 100%|██████████████████████████████████| 252/252 [04:34<00:00,  1.09s/it, loss=0.135]\n"
     ]
    },
    {
     "name": "stdout",
     "output_type": "stream",
     "text": [
      "Epoch [13/50], Loss: 0.1352, Accuracy: 95.60% | Val Loss: 0.0779, Val Accuracy: 97.40%\n",
      "Best model saved with validation accuracy: 97.40% at epoch 13\n"
     ]
    },
    {
     "name": "stderr",
     "output_type": "stream",
     "text": [
      "Epoch 14/50: 100%|██████████████████████████████████| 252/252 [04:32<00:00,  1.08s/it, loss=0.124]\n"
     ]
    },
    {
     "name": "stdout",
     "output_type": "stream",
     "text": [
      "Epoch [14/50], Loss: 0.1241, Accuracy: 96.02% | Val Loss: 0.0709, Val Accuracy: 97.53%\n",
      "Best model saved with validation accuracy: 97.53% at epoch 14\n"
     ]
    },
    {
     "name": "stderr",
     "output_type": "stream",
     "text": [
      "Epoch 15/50: 100%|██████████████████████████████████| 252/252 [04:36<00:00,  1.10s/it, loss=0.111]\n"
     ]
    },
    {
     "name": "stdout",
     "output_type": "stream",
     "text": [
      "Epoch [15/50], Loss: 0.1113, Accuracy: 96.50% | Val Loss: 0.0603, Val Accuracy: 98.05%\n",
      "Best model saved with validation accuracy: 98.05% at epoch 15\n"
     ]
    },
    {
     "name": "stderr",
     "output_type": "stream",
     "text": [
      "Epoch 16/50: 100%|██████████████████████████████████| 252/252 [04:36<00:00,  1.10s/it, loss=0.104]\n"
     ]
    },
    {
     "name": "stdout",
     "output_type": "stream",
     "text": [
      "Epoch [16/50], Loss: 0.1044, Accuracy: 96.96% | Val Loss: 0.0512, Val Accuracy: 98.31%\n",
      "Best model saved with validation accuracy: 98.31% at epoch 16\n"
     ]
    },
    {
     "name": "stderr",
     "output_type": "stream",
     "text": [
      "Epoch 17/50: 100%|█████████████████████████████████| 252/252 [04:37<00:00,  1.10s/it, loss=0.0971]\n"
     ]
    },
    {
     "name": "stdout",
     "output_type": "stream",
     "text": [
      "Epoch [17/50], Loss: 0.0971, Accuracy: 96.58% | Val Loss: 0.0462, Val Accuracy: 98.35%\n",
      "Best model saved with validation accuracy: 98.35% at epoch 17\n"
     ]
    },
    {
     "name": "stderr",
     "output_type": "stream",
     "text": [
      "Epoch 18/50: 100%|█████████████████████████████████| 252/252 [04:35<00:00,  1.09s/it, loss=0.0793]\n"
     ]
    },
    {
     "name": "stdout",
     "output_type": "stream",
     "text": [
      "Epoch [18/50], Loss: 0.0793, Accuracy: 97.66% | Val Loss: 0.0471, Val Accuracy: 98.65%\n",
      "Best model saved with validation accuracy: 98.65% at epoch 18\n"
     ]
    },
    {
     "name": "stderr",
     "output_type": "stream",
     "text": [
      "Epoch 19/50: 100%|█████████████████████████████████| 252/252 [04:35<00:00,  1.09s/it, loss=0.0792]\n"
     ]
    },
    {
     "name": "stdout",
     "output_type": "stream",
     "text": [
      "Epoch [19/50], Loss: 0.0792, Accuracy: 97.53% | Val Loss: 0.0372, Val Accuracy: 98.74%\n",
      "Best model saved with validation accuracy: 98.74% at epoch 19\n"
     ]
    },
    {
     "name": "stderr",
     "output_type": "stream",
     "text": [
      "Epoch 20/50: 100%|█████████████████████████████████| 252/252 [04:34<00:00,  1.09s/it, loss=0.0741]\n"
     ]
    },
    {
     "name": "stdout",
     "output_type": "stream",
     "text": [
      "Epoch [20/50], Loss: 0.0741, Accuracy: 97.63% | Val Loss: 0.0382, Val Accuracy: 98.70%\n"
     ]
    },
    {
     "name": "stderr",
     "output_type": "stream",
     "text": [
      "Epoch 21/50: 100%|█████████████████████████████████| 252/252 [04:36<00:00,  1.10s/it, loss=0.0552]\n"
     ]
    },
    {
     "name": "stdout",
     "output_type": "stream",
     "text": [
      "Epoch [21/50], Loss: 0.0552, Accuracy: 98.38% | Val Loss: 0.0237, Val Accuracy: 99.31%\n",
      "Best model saved with validation accuracy: 99.31% at epoch 21\n"
     ]
    },
    {
     "name": "stderr",
     "output_type": "stream",
     "text": [
      "Epoch 22/50: 100%|█████████████████████████████████| 252/252 [04:36<00:00,  1.10s/it, loss=0.0624]\n"
     ]
    },
    {
     "name": "stdout",
     "output_type": "stream",
     "text": [
      "Epoch [22/50], Loss: 0.0624, Accuracy: 98.04% | Val Loss: 0.0461, Val Accuracy: 98.65%\n"
     ]
    },
    {
     "name": "stderr",
     "output_type": "stream",
     "text": [
      "Epoch 23/50: 100%|█████████████████████████████████| 252/252 [04:37<00:00,  1.10s/it, loss=0.0565]\n"
     ]
    },
    {
     "name": "stdout",
     "output_type": "stream",
     "text": [
      "Epoch [23/50], Loss: 0.0565, Accuracy: 98.25% | Val Loss: 0.0306, Val Accuracy: 98.91%\n"
     ]
    },
    {
     "name": "stderr",
     "output_type": "stream",
     "text": [
      "Epoch 24/50: 100%|█████████████████████████████████| 252/252 [04:36<00:00,  1.10s/it, loss=0.0544]\n"
     ]
    },
    {
     "name": "stdout",
     "output_type": "stream",
     "text": [
      "Epoch [24/50], Loss: 0.0544, Accuracy: 98.29% | Val Loss: 0.0339, Val Accuracy: 98.61%\n"
     ]
    },
    {
     "name": "stderr",
     "output_type": "stream",
     "text": [
      "Epoch 25/50: 100%|█████████████████████████████████| 252/252 [04:38<00:00,  1.11s/it, loss=0.0524]\n"
     ]
    },
    {
     "name": "stdout",
     "output_type": "stream",
     "text": [
      "Epoch [25/50], Loss: 0.0524, Accuracy: 98.38% | Val Loss: 0.0242, Val Accuracy: 99.18%\n"
     ]
    },
    {
     "name": "stderr",
     "output_type": "stream",
     "text": [
      "Epoch 26/50: 100%|█████████████████████████████████| 252/252 [04:31<00:00,  1.08s/it, loss=0.0449]\n"
     ]
    },
    {
     "name": "stdout",
     "output_type": "stream",
     "text": [
      "Epoch [26/50], Loss: 0.0449, Accuracy: 98.67% | Val Loss: 0.0163, Val Accuracy: 99.65%\n",
      "Best model saved with validation accuracy: 99.65% at epoch 26\n"
     ]
    },
    {
     "name": "stderr",
     "output_type": "stream",
     "text": [
      "Epoch 27/50: 100%|█████████████████████████████████| 252/252 [04:32<00:00,  1.08s/it, loss=0.0488]\n"
     ]
    },
    {
     "name": "stdout",
     "output_type": "stream",
     "text": [
      "Epoch [27/50], Loss: 0.0488, Accuracy: 98.31% | Val Loss: 0.0234, Val Accuracy: 99.26%\n"
     ]
    },
    {
     "name": "stderr",
     "output_type": "stream",
     "text": [
      "Epoch 28/50: 100%|█████████████████████████████████| 252/252 [04:33<00:00,  1.08s/it, loss=0.0444]\n"
     ]
    },
    {
     "name": "stdout",
     "output_type": "stream",
     "text": [
      "Epoch [28/50], Loss: 0.0444, Accuracy: 98.56% | Val Loss: 0.0316, Val Accuracy: 98.87%\n"
     ]
    },
    {
     "name": "stderr",
     "output_type": "stream",
     "text": [
      "Epoch 29/50: 100%|█████████████████████████████████| 252/252 [04:32<00:00,  1.08s/it, loss=0.0388]\n"
     ]
    },
    {
     "name": "stdout",
     "output_type": "stream",
     "text": [
      "Epoch [29/50], Loss: 0.0388, Accuracy: 98.64% | Val Loss: 0.0153, Val Accuracy: 99.57%\n"
     ]
    },
    {
     "name": "stderr",
     "output_type": "stream",
     "text": [
      "Epoch 30/50: 100%|█████████████████████████████████| 252/252 [04:31<00:00,  1.08s/it, loss=0.0416]\n"
     ]
    },
    {
     "name": "stdout",
     "output_type": "stream",
     "text": [
      "Epoch [30/50], Loss: 0.0416, Accuracy: 98.66% | Val Loss: 0.0199, Val Accuracy: 99.39%\n"
     ]
    },
    {
     "name": "stderr",
     "output_type": "stream",
     "text": [
      "Epoch 31/50: 100%|█████████████████████████████████| 252/252 [04:33<00:00,  1.09s/it, loss=0.0388]\n"
     ]
    },
    {
     "name": "stdout",
     "output_type": "stream",
     "text": [
      "Epoch [31/50], Loss: 0.0388, Accuracy: 98.93% | Val Loss: 0.0103, Val Accuracy: 99.70%\n",
      "Best model saved with validation accuracy: 99.70% at epoch 31\n"
     ]
    },
    {
     "name": "stderr",
     "output_type": "stream",
     "text": [
      "Epoch 32/50: 100%|█████████████████████████████████| 252/252 [04:31<00:00,  1.08s/it, loss=0.0329]\n"
     ]
    },
    {
     "name": "stdout",
     "output_type": "stream",
     "text": [
      "Epoch [32/50], Loss: 0.0329, Accuracy: 98.83% | Val Loss: 0.0177, Val Accuracy: 99.31%\n"
     ]
    },
    {
     "name": "stderr",
     "output_type": "stream",
     "text": [
      "Epoch 33/50: 100%|█████████████████████████████████| 252/252 [04:34<00:00,  1.09s/it, loss=0.0323]\n"
     ]
    },
    {
     "name": "stdout",
     "output_type": "stream",
     "text": [
      "Epoch [33/50], Loss: 0.0323, Accuracy: 99.13% | Val Loss: 0.0172, Val Accuracy: 99.61%\n"
     ]
    },
    {
     "name": "stderr",
     "output_type": "stream",
     "text": [
      "Epoch 34/50: 100%|█████████████████████████████████| 252/252 [04:32<00:00,  1.08s/it, loss=0.0316]\n"
     ]
    },
    {
     "name": "stdout",
     "output_type": "stream",
     "text": [
      "Epoch [34/50], Loss: 0.0316, Accuracy: 98.91% | Val Loss: 0.0079, Val Accuracy: 99.78%\n",
      "Best model saved with validation accuracy: 99.78% at epoch 34\n"
     ]
    },
    {
     "name": "stderr",
     "output_type": "stream",
     "text": [
      "Epoch 35/50: 100%|█████████████████████████████████| 252/252 [04:32<00:00,  1.08s/it, loss=0.0281]\n"
     ]
    },
    {
     "name": "stdout",
     "output_type": "stream",
     "text": [
      "Epoch [35/50], Loss: 0.0281, Accuracy: 99.14% | Val Loss: 0.0178, Val Accuracy: 99.44%\n"
     ]
    },
    {
     "name": "stderr",
     "output_type": "stream",
     "text": [
      "Epoch 36/50: 100%|█████████████████████████████████| 252/252 [04:32<00:00,  1.08s/it, loss=0.0327]\n"
     ]
    },
    {
     "name": "stdout",
     "output_type": "stream",
     "text": [
      "Epoch [36/50], Loss: 0.0327, Accuracy: 99.02% | Val Loss: 0.0259, Val Accuracy: 99.26%\n"
     ]
    },
    {
     "name": "stderr",
     "output_type": "stream",
     "text": [
      "Epoch 37/50: 100%|█████████████████████████████████| 252/252 [04:32<00:00,  1.08s/it, loss=0.0308]\n"
     ]
    },
    {
     "name": "stdout",
     "output_type": "stream",
     "text": [
      "Epoch [37/50], Loss: 0.0308, Accuracy: 99.02% | Val Loss: 0.0213, Val Accuracy: 99.39%\n"
     ]
    },
    {
     "name": "stderr",
     "output_type": "stream",
     "text": [
      "Epoch 38/50: 100%|█████████████████████████████████| 252/252 [04:31<00:00,  1.08s/it, loss=0.0266]\n"
     ]
    },
    {
     "name": "stdout",
     "output_type": "stream",
     "text": [
      "Epoch [38/50], Loss: 0.0266, Accuracy: 99.13% | Val Loss: 0.0121, Val Accuracy: 99.70%\n"
     ]
    },
    {
     "name": "stderr",
     "output_type": "stream",
     "text": [
      "Epoch 39/50: 100%|█████████████████████████████████| 252/252 [04:32<00:00,  1.08s/it, loss=0.0366]\n"
     ]
    },
    {
     "name": "stdout",
     "output_type": "stream",
     "text": [
      "Epoch [39/50], Loss: 0.0366, Accuracy: 98.87% | Val Loss: 0.0286, Val Accuracy: 99.13%\n",
      "Early stopping triggered after 39 epochs!\n"
     ]
    },
    {
     "data": {
      "image/png": "[encoded data removed]",
      "text/plain": [
       "<Figure size 1200x400 with 2 Axes>"
      ]
     },
     "metadata": {},
     "output_type": "display_data"
    }
   ],
   "source": [
    "# Training Validation With early stopping\n",
    "import torch\n",
    "from torch import nn, optim\n",
    "from tqdm import tqdm\n",
    "import matplotlib.pyplot as plt\n",
    "\n",
    "# Loss function and optimizer\n",
    "criterion = nn.CrossEntropyLoss()  # For multi-class classification\n",
    "optimizer = optim.Adam(model.parameters(), lr=0.0001)\n",
    "\n",
    "# Move the model to GPU if available\n",
    "device = torch.device(\"cuda\" if torch.cuda.is_available() else \"cpu\")\n",
    "print(f\"Training on: {device}\")\n",
    "model.to(device)\n",
    "\n",
    "# Set up early stopping parameters\n",
    "patience = 5  # Stop training if the validation accuracy doesn't improve after 5 epochs\n",
    "early_stop_counter = 0  # Counts how many epochs have passed without improvement\n",
    "\n",
    "# Training loop\n",
    "num_epochs = 50  # Set your desired number of epochs\n",
    "\n",
    "# For tracking accuracy and loss\n",
    "train_acc_history = []\n",
    "val_acc_history = []\n",
    "train_loss_history = []\n",
    "val_loss_history = []\n",
    "\n",
    "best_accuracy = 0\n",
    "\n",
    "for epoch in range(num_epochs):\n",
    "    model.train()  # Set the model to training mode\n",
    "    running_loss = 0.0\n",
    "    correct_train = 0\n",
    "    total_train = 0\n",
    "\n",
    "    # Use tqdm for tracking batches inside the epoch\n",
    "    progress_bar = tqdm(train_loader, desc=f'Epoch {epoch+1}/{num_epochs}')\n",
    "    \n",
    "    for images, labels in progress_bar:\n",
    "        # Move data to GPU if available\n",
    "        images, labels = images.to(device), labels.to(device)\n",
    "        \n",
    "        # Zero the parameter gradients\n",
    "        optimizer.zero_grad()\n",
    "        \n",
    "        # Forward pass\n",
    "        outputs = model(images)\n",
    "        loss = criterion(outputs, labels)\n",
    "        \n",
    "        # Backward pass and optimization\n",
    "        loss.backward()\n",
    "        optimizer.step()\n",
    "        \n",
    "        # Accumulate loss\n",
    "        running_loss += loss.item()\n",
    "        \n",
    "        # Predictions and accuracy calculation\n",
    "        _, predicted = torch.max(outputs, 1)\n",
    "        total_train += labels.size(0)\n",
    "        correct_train += (predicted == labels).sum().item()\n",
    "        \n",
    "        # Update the progress bar description with current loss\n",
    "        progress_bar.set_postfix(loss=running_loss/len(train_loader))\n",
    "    \n",
    "    # Calculate training accuracy and loss\n",
    "    train_loss = running_loss / len(train_loader)\n",
    "    train_accuracy = 100 * correct_train / total_train\n",
    "    \n",
    "    # Append for later plotting\n",
    "    train_acc_history.append(train_accuracy)\n",
    "    train_loss_history.append(train_loss)\n",
    "\n",
    "    # Validation phase\n",
    "    model.eval()  # Set the model to evaluation mode\n",
    "    correct_val = 0\n",
    "    total_val = 0\n",
    "    running_val_loss = 0.0\n",
    "    \n",
    "    with torch.no_grad():\n",
    "        for images, labels in val_loader:\n",
    "            images, labels = images.to(device), labels.to(device)\n",
    "            outputs = model(images)\n",
    "            val_loss = criterion(outputs, labels)\n",
    "            running_val_loss += val_loss.item()\n",
    "            \n",
    "            _, predicted = torch.max(outputs, 1)\n",
    "            total_val += labels.size(0)\n",
    "            correct_val += (predicted == labels).sum().item()\n",
    "    \n",
    "    # Calculate validation accuracy and loss\n",
    "    val_loss = running_val_loss / len(val_loader)\n",
    "    val_accuracy = 100 * correct_val / total_val\n",
    "    \n",
    "    # Append for later plotting\n",
    "    val_acc_history.append(val_accuracy)\n",
    "    val_loss_history.append(val_loss)\n",
    "    \n",
    "    # Print epoch statistics\n",
    "    print(f'Epoch [{epoch+1}/{num_epochs}], Loss: {train_loss:.4f}, Accuracy: {train_accuracy:.2f}% | '\n",
    "          f'Val Loss: {val_loss:.4f}, Val Accuracy: {val_accuracy:.2f}%')\n",
    "\n",
    "    # Check for early stopping\n",
    "    if val_accuracy > best_accuracy:\n",
    "        torch.save(model.state_dict(), f\"best_model_epoch_{epoch+1}_val_acc_{val_accuracy:.2f}.pth\")\n",
    "        print(f\"Best model saved with validation accuracy: {val_accuracy:.2f}% at epoch {epoch+1}\")\n",
    "        best_accuracy = val_accuracy\n",
    "        early_stop_counter = 0  # Reset counter since we have an improvement\n",
    "    else:\n",
    "        early_stop_counter += 1  # No improvement, increment the counter\n",
    "        \n",
    "        if early_stop_counter >= patience:\n",
    "            print(f\"Early stopping triggered after {epoch+1} epochs!\")\n",
    "            break  # Exit the training loop if no improvement for 'patience' epochs\n",
    "\n",
    "# Plot training and validation accuracy\n",
    "plt.figure(figsize=(12, 4))\n",
    "plt.subplot(1, 2, 1)\n",
    "plt.plot(train_acc_history, label='Train Accuracy')\n",
    "plt.plot(val_acc_history, label='Validation Accuracy')\n",
    "plt.xlabel('Epochs')\n",
    "plt.ylabel('Accuracy')\n",
    "plt.legend()\n",
    "\n",
    "# Plot training and validation loss\n",
    "plt.subplot(1, 2, 2)\n",
    "plt.plot(train_loss_history, label='Train Loss')\n",
    "plt.plot(val_loss_history, label='Validation Loss')\n",
    "plt.xlabel('Epochs')\n",
    "plt.ylabel('Loss')\n",
    "plt.legend()\n",
    "\n",
    "plt.show()\n"
   ]
  },
  {
   "cell_type": "code",
   "execution_count": 17,
   "metadata": {},
   "outputs": [
    {
     "name": "stdout",
     "output_type": "stream",
     "text": [
      "Test dataset has 1152 samples.\n"
     ]
    }
   ],
   "source": [
    "# Import the time module\n",
    "from torchvision import datasets, transforms\n",
    "from torch.utils.data import DataLoader\n",
    "\n",
    "# Define the same transformations as used for validation/test\n",
    "val_test_transforms = transforms.Compose([\n",
    "    transforms.Resize(256),\n",
    "    transforms.CenterCrop(224),\n",
    "    transforms.ToTensor(),\n",
    "    transforms.Normalize(mean=[0.485, 0.456, 0.406], std=[0.229, 0.224, 0.225])\n",
    "])\n",
    "# Paths for the test directory\n",
    "\n",
    "test_dir = r'E:\\PythonWithML\\MendelyDatasetNewSplit\\ShuffleNetV2_70_20_10\\test'\n",
    "\n",
    "# Load the test dataset\n",
    "test_dataset = datasets.ImageFolder(root=test_dir, transform=val_test_transforms)\n",
    "\n",
    "# Create the test data loader\n",
    "test_loader = DataLoader(test_dataset, batch_size=32, shuffle=False, drop_last=True)\n",
    "\n",
    "# Print the size of the test dataset\n",
    "print(f\"Test dataset has {len(test_dataset)} samples.\")"
   ]
  },
  {
   "cell_type": "code",
   "execution_count": 18,
   "metadata": {},
   "outputs": [
    {
     "name": "stderr",
     "output_type": "stream",
     "text": [
      "C:\\Users\\Administrator\\AppData\\Local\\Temp\\ipykernel_17532\\4070211760.py:32: FutureWarning: You are using `torch.load` with `weights_only=False` (the current default value), which uses the default pickle module implicitly. It is possible to construct malicious pickle data which will execute arbitrary code during unpickling (See https://github.com/pytorch/pytorch/blob/main/SECURITY.md#untrusted-models for more details). In a future release, the default value for `weights_only` will be flipped to `True`. This limits the functions that could be executed during unpickling. Arbitrary objects will no longer be allowed to be loaded via this mode unless they are explicitly allowlisted by the user via `torch.serialization.add_safe_globals`. We recommend you start setting `weights_only=True` for any use case where you don't have full control of the loaded file. Please open an issue on GitHub for any issues related to this experimental feature.\n",
      "  model.load_state_dict(torch.load(best_model_path))\n"
     ]
    },
    {
     "name": "stdout",
     "output_type": "stream",
     "text": [
      "Testing the best model on the test set...\n",
      "Test Accuracy: 99.48%\n",
      "Execution Time: 20.56 seconds\n"
     ]
    },
    {
     "data": {
      "text/plain": [
       "99.47916666666667"
      ]
     },
     "execution_count": 18,
     "metadata": {},
     "output_type": "execute_result"
    }
   ],
   "source": [
    "import time\n",
    "import torch\n",
    "\n",
    "# Function to test the model on the test dataset\n",
    "def test_model(model, test_loader, device):\n",
    "    model.eval()  # Set model to evaluation mode\n",
    "    correct_test = 0\n",
    "    total_test = 0\n",
    "\n",
    "    start_time = time.time()  # Start the timer\n",
    "    \n",
    "    with torch.no_grad():  # No need to compute gradients for testing\n",
    "        for images, labels in test_loader:\n",
    "            images, labels = images.to(device), labels.to(device)  # Move data to the appropriate device\n",
    "            outputs = model(images)  # Forward pass\n",
    "            _, predicted = torch.max(outputs, 1)  # Get the predicted class\n",
    "            total_test += labels.size(0)\n",
    "            correct_test += (predicted == labels).sum().item()  # Compare predictions with true labels\n",
    "    \n",
    "    test_accuracy = 100 * correct_test / total_test  # Calculate accuracy\n",
    "    end_time = time.time()  # End the timer\n",
    "    \n",
    "    # Calculate execution time\n",
    "    execution_time = end_time - start_time\n",
    "    print(f\"Test Accuracy: {test_accuracy:.2f}%\")\n",
    "    print(f\"Execution Time: {execution_time:.2f} seconds\")  # Print the execution time\n",
    "    \n",
    "    return test_accuracy\n",
    "\n",
    "# Load the best saved ShuffleNet model\n",
    "best_model_path = r\"E:\\PythonWithML\\MendelyDatasetNewSplit\\ShuffleNetV2_70_20_10\\best_model_epoch_34_val_acc_99.78.pth\"  # Replace this with your actual best model path\n",
    "model.load_state_dict(torch.load(best_model_path))\n",
    "model.to(device)\n",
    "\n",
    "# Test the model on the test dataset\n",
    "print(\"Testing the best model on the test set...\")\n",
    "test_model(model, test_loader, device)\n"
   ]
  },
  {
   "cell_type": "code",
   "execution_count": 21,
   "metadata": {},
   "outputs": [
    {
     "name": "stderr",
     "output_type": "stream",
     "text": [
      "C:\\Users\\Administrator\\AppData\\Local\\Temp\\ipykernel_27024\\2099552228.py:35: FutureWarning: You are using `torch.load` with `weights_only=False` (the current default value), which uses the default pickle module implicitly. It is possible to construct malicious pickle data which will execute arbitrary code during unpickling (See https://github.com/pytorch/pytorch/blob/main/SECURITY.md#untrusted-models for more details). In a future release, the default value for `weights_only` will be flipped to `True`. This limits the functions that could be executed during unpickling. Arbitrary objects will no longer be allowed to be loaded via this mode unless they are explicitly allowlisted by the user via `torch.serialization.add_safe_globals`. We recommend you start setting `weights_only=True` for any use case where you don't have full control of the loaded file. Please open an issue on GitHub for any issues related to this experimental feature.\n",
      "  model.load_state_dict(torch.load(best_model_path))\n"
     ]
    },
    {
     "name": "stdout",
     "output_type": "stream",
     "text": [
      "Testing the best model on the test set...\n",
      "Test Accuracy: 99.26%\n",
      "Execution Time: 37.88 seconds\n"
     ]
    },
    {
     "data": {
      "text/plain": [
       "99.26215277777777"
      ]
     },
     "execution_count": 21,
     "metadata": {},
     "output_type": "execute_result"
    }
   ],
   "source": [
    "import time\n",
    "import torch\n",
    "\n",
    "# Define the device (GPU if available, else CPU)\n",
    "device = torch.device('cuda' if torch.cuda.is_available() else 'cpu')\n",
    "\n",
    "# Function to test the model on the test dataset\n",
    "def test_model(model, test_loader, device):\n",
    "    model.eval()  # Set model to evaluation mode\n",
    "    correct_test = 0\n",
    "    total_test = 0\n",
    "\n",
    "    start_time = time.time()  # Start the timer\n",
    "    \n",
    "    with torch.no_grad():  # No need to compute gradients for testing\n",
    "        for images, labels in test_loader:\n",
    "            images, labels = images.to(device), labels.to(device)  # Move data to the appropriate device\n",
    "            outputs = model(images)  # Forward pass\n",
    "            _, predicted = torch.max(outputs, 1)  # Get the predicted class\n",
    "            total_test += labels.size(0)\n",
    "            correct_test += (predicted == labels).sum().item()  # Compare predictions with true labels\n",
    "    \n",
    "    test_accuracy = 100 * correct_test / total_test  # Calculate accuracy\n",
    "    end_time = time.time()  # End the timer\n",
    "    \n",
    "    # Calculate execution time\n",
    "    execution_time = end_time - start_time\n",
    "    print(f\"Test Accuracy: {test_accuracy:.2f}%\")\n",
    "    print(f\"Execution Time: {execution_time:.2f} seconds\")  # Print the execution time\n",
    "    \n",
    "    return test_accuracy\n",
    "\n",
    "# Load the best saved ShuffleNet model\n",
    "best_model_path = r\"E:\\PythonWithML\\demo\\ShuffleNet\\Run 4 Transform1 V2\\best_model_epoch_19_val_acc_99.05.pth\"  # Replace this with your actual best model path\n",
    "model.load_state_dict(torch.load(best_model_path))\n",
    "model.to(device)\n",
    "\n",
    "# Test the model on the test dataset\n",
    "print(\"Testing the best model on the test set...\")\n",
    "test_model(model, test_loader, device)\n"
   ]
  },
  {
   "cell_type": "code",
   "execution_count": 20,
   "metadata": {},
   "outputs": [
    {
     "name": "stdout",
     "output_type": "stream",
     "text": [
      "Collecting seaborn\n",
      "  Using cached seaborn-0.13.2-py3-none-any.whl (294 kB)\n",
      "Requirement already satisfied: matplotlib!=3.6.1,>=3.4 in d:\\program files\\python310\\lib\\site-packages (from seaborn) (3.9.2)\n",
      "Requirement already satisfied: numpy!=1.24.0,>=1.20 in d:\\program files\\python310\\lib\\site-packages (from seaborn) (2.1.2)\n",
      "Collecting pandas>=1.2\n",
      "  Using cached pandas-2.2.3-cp310-cp310-win_amd64.whl (11.6 MB)\n",
      "Requirement already satisfied: cycler>=0.10 in d:\\program files\\python310\\lib\\site-packages (from matplotlib!=3.6.1,>=3.4->seaborn) (0.12.1)\n",
      "Requirement already satisfied: python-dateutil>=2.7 in d:\\program files\\python310\\lib\\site-packages (from matplotlib!=3.6.1,>=3.4->seaborn) (2.9.0.post0)\n",
      "Requirement already satisfied: kiwisolver>=1.3.1 in d:\\program files\\python310\\lib\\site-packages (from matplotlib!=3.6.1,>=3.4->seaborn) (1.4.7)\n",
      "Requirement already satisfied: contourpy>=1.0.1 in d:\\program files\\python310\\lib\\site-packages (from matplotlib!=3.6.1,>=3.4->seaborn) (1.3.0)\n",
      "Requirement already satisfied: fonttools>=4.22.0 in d:\\program files\\python310\\lib\\site-packages (from matplotlib!=3.6.1,>=3.4->seaborn) (4.54.1)\n",
      "Requirement already satisfied: packaging>=20.0 in d:\\program files\\python310\\lib\\site-packages (from matplotlib!=3.6.1,>=3.4->seaborn) (24.1)\n",
      "Requirement already satisfied: pyparsing>=2.3.1 in d:\\program files\\python310\\lib\\site-packages (from matplotlib!=3.6.1,>=3.4->seaborn) (3.2.0)\n",
      "Requirement already satisfied: pillow>=8 in d:\\program files\\python310\\lib\\site-packages (from matplotlib!=3.6.1,>=3.4->seaborn) (11.0.0)\n",
      "Collecting pytz>=2020.1\n",
      "  Using cached pytz-2024.2-py2.py3-none-any.whl (508 kB)\n",
      "Collecting tzdata>=2022.7\n",
      "  Using cached tzdata-2024.2-py2.py3-none-any.whl (346 kB)\n",
      "Requirement already satisfied: six>=1.5 in d:\\program files\\python310\\lib\\site-packages (from python-dateutil>=2.7->matplotlib!=3.6.1,>=3.4->seaborn) (1.16.0)\n",
      "Installing collected packages: tzdata, pytz, pandas, seaborn\n",
      "Successfully installed pandas-2.2.3 pytz-2024.2 seaborn-0.13.2 tzdata-2024.2\n",
      "Note: you may need to restart the kernel to use updated packages.\n"
     ]
    },
    {
     "name": "stderr",
     "output_type": "stream",
     "text": [
      "WARNING: You are using pip version 21.2.3; however, version 24.2 is available.\n",
      "You should consider upgrading via the 'D:\\Program Files\\Python310\\python.exe -m pip install --upgrade pip' command.\n"
     ]
    }
   ],
   "source": [
    "pip install seaborn\n"
   ]
  },
  {
   "cell_type": "code",
   "execution_count": 21,
   "metadata": {},
   "outputs": [
    {
     "name": "stdout",
     "output_type": "stream",
     "text": [
      "Displaying the confusion matrix for the test set...\n"
     ]
    },
    {
     "data": {
      "image/png": "[encoded data removed]",
      "text/plain": [
       "<Figure size 1000x800 with 2 Axes>"
      ]
     },
     "metadata": {},
     "output_type": "display_data"
    }
   ],
   "source": [
    "# Function to display confusion matrix\n",
    "import seaborn as sns\n",
    "import matplotlib.pyplot as plt\n",
    "from sklearn.metrics import confusion_matrix\n",
    "import numpy as np\n",
    "\n",
    "def display_confusion_matrix(model, test_loader, device, class_names):\n",
    "    model.eval()  # Set model to evaluation mode\n",
    "    all_preds = []\n",
    "    all_labels = []\n",
    "\n",
    "    # Collect predictions and labels\n",
    "    with torch.no_grad():\n",
    "        for images, labels in test_loader:\n",
    "            images, labels = images.to(device), labels.to(device)\n",
    "            outputs = model(images)\n",
    "            _, predicted = torch.max(outputs, 1)\n",
    "            \n",
    "            # Store predictions and true labels for confusion matrix\n",
    "            all_preds.extend(predicted.cpu().numpy())\n",
    "            all_labels.extend(labels.cpu().numpy())\n",
    "\n",
    "    # Confusion matrix\n",
    "    cm = confusion_matrix(all_labels, all_preds)\n",
    "    \n",
    "    # Plot confusion matrix using seaborn\n",
    "    plt.figure(figsize=(10, 8))\n",
    "    sns.heatmap(cm, annot=True, fmt=\"d\", cmap=\"Blues\", xticklabels=class_names, yticklabels=class_names)\n",
    "    plt.title('Confusion Matrix')\n",
    "    plt.xlabel('Predicted Label')\n",
    "    plt.ylabel('True Label')\n",
    "    plt.show()\n",
    "\n",
    "# Class names for your dry fruits dataset\n",
    "class_names = ['ALMOND_MAMRA', 'ALMOND_REGULAR', 'ALMOND_SANORA', \n",
    "               'CASHEW_JUMBO', 'CASHEW_REGULAR', 'CASHEW_SPECIAL',\n",
    "               'FIG_JUMBO', 'FIG_MEDIUM', 'FIG_SMALL', \n",
    "               'RAISIN_BLACK', 'RAISIN_GRADE1', 'RAISIN_PREMIUM']\n",
    "\n",
    "# Test the model and display the confusion matrix\n",
    "print(\"Displaying the confusion matrix for the test set...\")\n",
    "display_confusion_matrix(model, test_loader, device, class_names)\n"
   ]
  },
  {
   "cell_type": "code",
   "execution_count": null,
   "metadata": {},
   "outputs": [],
   "source": []
  }
 ],
 "metadata": {
  "kernelspec": {
   "display_name": "Python 3 (ipykernel)",
   "language": "python",
   "name": "python3"
  },
  "language_info": {
   "codemirror_mode": {
    "name": "ipython",
    "version": 3
   },
   "file_extension": ".py",
   "mimetype": "text/x-python",
   "name": "python",
   "nbconvert_exporter": "python",
   "pygments_lexer": "ipython3",
   "version": "3.10.0"
  }
 },
 "nbformat": 4,
 "nbformat_minor": 4
}
