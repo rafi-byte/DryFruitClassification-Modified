{
 "cells": [
  {
   "cell_type": "code",
   "execution_count": 18,
   "metadata": {
    "vscode": {
     "languageId": "plaintext"
    }
   },
   "outputs": [],
   "source": [
    "import os\n",
    "import shutil\n",
    "from sklearn.model_selection import train_test_split\n",
    "import torch\n",
    "from torch import nn\n",
    "from torchvision import datasets, transforms\n",
    "from torch.utils.data import DataLoader\n"
   ]
  },
  {
   "cell_type": "code",
   "execution_count": 19,
   "metadata": {},
   "outputs": [
    {
     "name": "stdout",
     "output_type": "stream",
     "text": [
      "Processing subcategory: ALMOND_MAMRA\n",
      "Moved 672 train images, 96 val images, and 192 test images for ALMOND_MAMRA\n",
      "Processing subcategory: ALMOND_REGULAR\n",
      "Moved 672 train images, 96 val images, and 192 test images for ALMOND_REGULAR\n",
      "Processing subcategory: ALMOND_SANORA\n",
      "Moved 672 train images, 96 val images, and 192 test images for ALMOND_SANORA\n",
      "Processing subcategory: CASHEW_JUMBO\n",
      "Moved 672 train images, 96 val images, and 192 test images for CASHEW_JUMBO\n",
      "Processing subcategory: CASHEW_REGULAR\n",
      "Moved 672 train images, 96 val images, and 192 test images for CASHEW_REGULAR\n",
      "Processing subcategory: CASHEW_SPECIAL\n",
      "Moved 672 train images, 96 val images, and 192 test images for CASHEW_SPECIAL\n",
      "Processing subcategory: FIG_JUMBO\n",
      "Moved 672 train images, 96 val images, and 192 test images for FIG_JUMBO\n",
      "Processing subcategory: FIG_MEDIUM\n",
      "Moved 672 train images, 96 val images, and 192 test images for FIG_MEDIUM\n",
      "Processing subcategory: FIG_SMALL\n",
      "Moved 672 train images, 96 val images, and 192 test images for FIG_SMALL\n",
      "Processing subcategory: RAISIN_BLACK\n",
      "Moved 672 train images, 96 val images, and 192 test images for RAISIN_BLACK\n",
      "Processing subcategory: RAISIN_GRADE1\n",
      "Moved 672 train images, 96 val images, and 192 test images for RAISIN_GRADE1\n",
      "Processing subcategory: RAISIN_PREMIUM\n",
      "Moved 672 train images, 96 val images, and 192 test images for RAISIN_PREMIUM\n"
     ]
    }
   ],
   "source": [
    "import os\n",
    "from sklearn.model_selection import train_test_split\n",
    "import shutil\n",
    "\n",
    "# Define the paths for the dataset\n",
    "dataset_dir = r\"E:\\PythonWithML\\demo\\dry-fruits-image\\Dry Fruit Image Dataset\\DRY FRUIT IMAGE DATASET\"\n",
    "\n",
    "# List of subcategories for each type of dry fruit\n",
    "categories = {\n",
    "    \"ALMOND\": [\"ALMOND_MAMRA\", \"ALMOND_REGULAR\", \"ALMOND_SANORA\"],\n",
    "    \"CASHEW\": [\"CASHEW_JUMBO\", \"CASHEW_REGULAR\", \"CASHEW_SPECIAL\"],\n",
    "    \"FIG\": [\"FIG_JUMBO\", \"FIG_MEDIUM\", \"FIG_SMALL\"],\n",
    "    \"RAISIN\": [\"RAISIN_BLACK\", \"RAISIN_GRADE1\", \"RAISIN_PREMIUM\"]\n",
    "}\n",
    "\n",
    "# Paths for the train, validation, and test directories\n",
    "train_dir = r'E:\\PythonWithML\\demo\\dry-fruits-image\\Dry Fruit Image Dataset\\train'\n",
    "val_dir = r'E:\\PythonWithML\\demo\\dry-fruits-image\\Dry Fruit Image Dataset\\val'\n",
    "test_dir = r'E:\\PythonWithML\\demo\\dry-fruits-image\\Dry Fruit Image Dataset\\test'\n",
    "\n",
    "# Function to split dataset\n",
    "def split_dataset(dataset_dir, train_dir, val_dir, test_dir, categories, train_ratio=0.7, val_ratio=0.1, test_ratio=0.2):\n",
    "    # Create directories for train, val, and test if they don't exist\n",
    "    for dir_path in [train_dir, val_dir, test_dir]:\n",
    "        os.makedirs(dir_path, exist_ok=True)\n",
    "    \n",
    "    # Loop through each main category and its subcategories\n",
    "    for main_category, subcategories in categories.items():\n",
    "        for subcategory in subcategories:\n",
    "            subcategory_dir = os.path.join(dataset_dir, main_category, subcategory)\n",
    "            \n",
    "            if os.path.isdir(subcategory_dir):\n",
    "                print(f\"Processing subcategory: {subcategory}\")\n",
    "                images = os.listdir(subcategory_dir)\n",
    "                images = [img for img in images if img.endswith(('.png', '.jpg', '.jpeg'))]\n",
    "                \n",
    "                if not images:\n",
    "                    print(f\"No images found in {subcategory_dir}. Skipping...\")\n",
    "                    continue\n",
    "                \n",
    "                # Split images into train, val, and test sets\n",
    "                train_images, temp_images = train_test_split(images, train_size=train_ratio, random_state=42)\n",
    "                val_images, test_images = train_test_split(temp_images, test_size=test_ratio / (val_ratio + test_ratio), random_state=42)\n",
    "\n",
    "                # Function to move the images\n",
    "                def move_images(image_list, folder_name):\n",
    "                    class_folder = os.path.join(folder_name, subcategory)\n",
    "                    os.makedirs(class_folder, exist_ok=True)\n",
    "                    \n",
    "                    for img in image_list:\n",
    "                        src = os.path.join(subcategory_dir, img)\n",
    "                        dst = os.path.join(class_folder, img)\n",
    "                        shutil.copy(src, dst)\n",
    "\n",
    "                # Move the images to respective folders\n",
    "                move_images(train_images, train_dir)\n",
    "                move_images(val_images, val_dir)\n",
    "                move_images(test_images, test_dir)\n",
    "                \n",
    "                print(f\"Moved {len(train_images)} train images, {len(val_images)} val images, and {len(test_images)} test images for {subcategory}\")\n",
    "\n",
    "# Split the dataset\n",
    "split_dataset(dataset_dir, train_dir, val_dir, test_dir, categories)\n"
   ]
  },
  {
   "cell_type": "code",
   "execution_count": 20,
   "metadata": {},
   "outputs": [],
   "source": [
    "from torchvision import datasets, transforms\n",
    "from torch.utils.data import DataLoader\n",
    "\n",
    "# Define transformations for training, validation, and testing datasets\n",
    "# train_transforms = transforms.Compose([\n",
    "#     transforms.RandomResizedCrop(224),\n",
    "#     transforms.RandomRotation(20),  # Consider reducing aggressive rotations\n",
    "#     transforms.RandomHorizontalFlip(),\n",
    "#     transforms.RandomAffine(degrees=0, shear=0.1, scale=(0.9, 1.1)),  # Lighter affine transformation\n",
    "#     transforms.ToTensor(),\n",
    "#     transforms.Normalize([0.485, 0.456, 0.406], [0.229, 0.224, 0.225])\n",
    "# ])\n",
    "# For training (with augmentations)\n",
    "train_transforms = transforms.Compose([\n",
    "    transforms.Resize(256),\n",
    "    transforms.CenterCrop(224),\n",
    "    transforms.RandomRotation(20),  # Consider reducing aggressive rotations\n",
    "    transforms.RandomHorizontalFlip(),\n",
    "    transforms.RandomAffine(degrees=0, shear=0.1, scale=(0.9, 1.1)),  # Lighter affine transformation\n",
    "    transforms.ToTensor(),\n",
    "    transforms.Normalize(mean=[0.485, 0.456, 0.406], std=[0.229, 0.224, 0.225])\n",
    "])\n",
    "\n",
    "# val_test_transforms = transforms.Compose([\n",
    "#     transforms.Resize((224, 224)),\n",
    "#     transforms.ToTensor(),\n",
    "#     transforms.Normalize([0.485, 0.456, 0.406], [0.229, 0.224, 0.225])\n",
    "# ])\n",
    "val_test_transforms = transforms.Compose([\n",
    "    transforms.Resize(256),\n",
    "    transforms.CenterCrop(224),\n",
    "    transforms.ToTensor(),\n",
    "    transforms.Normalize(mean=[0.485, 0.456, 0.406], std=[0.229, 0.224, 0.225])\n",
    "])\n",
    "# Load datasets\n",
    "train_dataset = datasets.ImageFolder(root=train_dir, transform=train_transforms)\n",
    "val_dataset = datasets.ImageFolder(root=val_dir, transform=val_test_transforms)\n",
    "test_dataset = datasets.ImageFolder(root=test_dir, transform=val_test_transforms)\n",
    "\n",
    "# Data loaders\n",
    "train_loader = DataLoader(train_dataset, batch_size=32, shuffle=True, drop_last=True)\n",
    "val_loader = DataLoader(val_dataset, batch_size=32, shuffle=False, drop_last=True)\n",
    "test_loader = DataLoader(test_dataset, batch_size=32, shuffle=False, drop_last=True)\n"
   ]
  },
  {
   "cell_type": "code",
   "execution_count": 21,
   "metadata": {},
   "outputs": [
    {
     "name": "stderr",
     "output_type": "stream",
     "text": [
      "Using cache found in C:\\Users\\Administrator/.cache\\torch\\hub\\pytorch_vision_v0.10.0\n",
      "E:\\PythonWithML\\demo\\myenv\\lib\\site-packages\\torchvision\\models\\_utils.py:208: UserWarning: The parameter 'pretrained' is deprecated since 0.13 and may be removed in the future, please use 'weights' instead.\n",
      "  warnings.warn(\n",
      "E:\\PythonWithML\\demo\\myenv\\lib\\site-packages\\torchvision\\models\\_utils.py:223: UserWarning: Arguments other than a weight enum or `None` for 'weights' are deprecated since 0.13 and may be removed in the future. The current behavior is equivalent to passing `weights=SqueezeNet1_1_Weights.IMAGENET1K_V1`. You can also use `weights=SqueezeNet1_1_Weights.DEFAULT` to get the most up-to-date weights.\n",
      "  warnings.warn(msg)\n"
     ]
    }
   ],
   "source": [
    "import torch\n",
    "from torch import nn\n",
    "\n",
    "num_classes = 12  # Number of classes in the dataset\n",
    "\n",
    "# Load pre-trained SqueezeNet model\n",
    "#model = torch.hub.load('pytorch/vision:v0.10.0', 'squeezenet1_0', pretrained=True)\n",
    "model = torch.hub.load('pytorch/vision:v0.10.0', 'squeezenet1_1', pretrained=True)\n",
    "\n",
    "# Modify the classifier to fit the number of output classes\n",
    "model.classifier = nn.Sequential(\n",
    "    nn.Dropout(p=0.5),  # Add dropout for regularization\n",
    "    nn.Conv2d(512, num_classes, kernel_size=(1, 1), stride=(1, 1)),  # Conv layer for classification\n",
    "    nn.ReLU(inplace=True),  # Activation function\n",
    "    nn.AdaptiveAvgPool2d((1, 1))  # Global Average Pooling to convert to 1x1 feature map\n",
    ")\n",
    "\n",
    "\n"
   ]
  },
  {
   "cell_type": "code",
   "execution_count": 22,
   "metadata": {},
   "outputs": [
    {
     "data": {
      "text/plain": [
       "SqueezeNet(\n",
       "  (features): Sequential(\n",
       "    (0): Conv2d(3, 64, kernel_size=(3, 3), stride=(2, 2))\n",
       "    (1): ReLU(inplace=True)\n",
       "    (2): MaxPool2d(kernel_size=3, stride=2, padding=0, dilation=1, ceil_mode=True)\n",
       "    (3): Fire(\n",
       "      (squeeze): Conv2d(64, 16, kernel_size=(1, 1), stride=(1, 1))\n",
       "      (squeeze_activation): ReLU(inplace=True)\n",
       "      (expand1x1): Conv2d(16, 64, kernel_size=(1, 1), stride=(1, 1))\n",
       "      (expand1x1_activation): ReLU(inplace=True)\n",
       "      (expand3x3): Conv2d(16, 64, kernel_size=(3, 3), stride=(1, 1), padding=(1, 1))\n",
       "      (expand3x3_activation): ReLU(inplace=True)\n",
       "    )\n",
       "    (4): Fire(\n",
       "      (squeeze): Conv2d(128, 16, kernel_size=(1, 1), stride=(1, 1))\n",
       "      (squeeze_activation): ReLU(inplace=True)\n",
       "      (expand1x1): Conv2d(16, 64, kernel_size=(1, 1), stride=(1, 1))\n",
       "      (expand1x1_activation): ReLU(inplace=True)\n",
       "      (expand3x3): Conv2d(16, 64, kernel_size=(3, 3), stride=(1, 1), padding=(1, 1))\n",
       "      (expand3x3_activation): ReLU(inplace=True)\n",
       "    )\n",
       "    (5): MaxPool2d(kernel_size=3, stride=2, padding=0, dilation=1, ceil_mode=True)\n",
       "    (6): Fire(\n",
       "      (squeeze): Conv2d(128, 32, kernel_size=(1, 1), stride=(1, 1))\n",
       "      (squeeze_activation): ReLU(inplace=True)\n",
       "      (expand1x1): Conv2d(32, 128, kernel_size=(1, 1), stride=(1, 1))\n",
       "      (expand1x1_activation): ReLU(inplace=True)\n",
       "      (expand3x3): Conv2d(32, 128, kernel_size=(3, 3), stride=(1, 1), padding=(1, 1))\n",
       "      (expand3x3_activation): ReLU(inplace=True)\n",
       "    )\n",
       "    (7): Fire(\n",
       "      (squeeze): Conv2d(256, 32, kernel_size=(1, 1), stride=(1, 1))\n",
       "      (squeeze_activation): ReLU(inplace=True)\n",
       "      (expand1x1): Conv2d(32, 128, kernel_size=(1, 1), stride=(1, 1))\n",
       "      (expand1x1_activation): ReLU(inplace=True)\n",
       "      (expand3x3): Conv2d(32, 128, kernel_size=(3, 3), stride=(1, 1), padding=(1, 1))\n",
       "      (expand3x3_activation): ReLU(inplace=True)\n",
       "    )\n",
       "    (8): MaxPool2d(kernel_size=3, stride=2, padding=0, dilation=1, ceil_mode=True)\n",
       "    (9): Fire(\n",
       "      (squeeze): Conv2d(256, 48, kernel_size=(1, 1), stride=(1, 1))\n",
       "      (squeeze_activation): ReLU(inplace=True)\n",
       "      (expand1x1): Conv2d(48, 192, kernel_size=(1, 1), stride=(1, 1))\n",
       "      (expand1x1_activation): ReLU(inplace=True)\n",
       "      (expand3x3): Conv2d(48, 192, kernel_size=(3, 3), stride=(1, 1), padding=(1, 1))\n",
       "      (expand3x3_activation): ReLU(inplace=True)\n",
       "    )\n",
       "    (10): Fire(\n",
       "      (squeeze): Conv2d(384, 48, kernel_size=(1, 1), stride=(1, 1))\n",
       "      (squeeze_activation): ReLU(inplace=True)\n",
       "      (expand1x1): Conv2d(48, 192, kernel_size=(1, 1), stride=(1, 1))\n",
       "      (expand1x1_activation): ReLU(inplace=True)\n",
       "      (expand3x3): Conv2d(48, 192, kernel_size=(3, 3), stride=(1, 1), padding=(1, 1))\n",
       "      (expand3x3_activation): ReLU(inplace=True)\n",
       "    )\n",
       "    (11): Fire(\n",
       "      (squeeze): Conv2d(384, 64, kernel_size=(1, 1), stride=(1, 1))\n",
       "      (squeeze_activation): ReLU(inplace=True)\n",
       "      (expand1x1): Conv2d(64, 256, kernel_size=(1, 1), stride=(1, 1))\n",
       "      (expand1x1_activation): ReLU(inplace=True)\n",
       "      (expand3x3): Conv2d(64, 256, kernel_size=(3, 3), stride=(1, 1), padding=(1, 1))\n",
       "      (expand3x3_activation): ReLU(inplace=True)\n",
       "    )\n",
       "    (12): Fire(\n",
       "      (squeeze): Conv2d(512, 64, kernel_size=(1, 1), stride=(1, 1))\n",
       "      (squeeze_activation): ReLU(inplace=True)\n",
       "      (expand1x1): Conv2d(64, 256, kernel_size=(1, 1), stride=(1, 1))\n",
       "      (expand1x1_activation): ReLU(inplace=True)\n",
       "      (expand3x3): Conv2d(64, 256, kernel_size=(3, 3), stride=(1, 1), padding=(1, 1))\n",
       "      (expand3x3_activation): ReLU(inplace=True)\n",
       "    )\n",
       "  )\n",
       "  (classifier): Sequential(\n",
       "    (0): Dropout(p=0.5, inplace=False)\n",
       "    (1): Conv2d(512, 12, kernel_size=(1, 1), stride=(1, 1))\n",
       "    (2): ReLU(inplace=True)\n",
       "    (3): AdaptiveAvgPool2d(output_size=(1, 1))\n",
       "  )\n",
       ")"
      ]
     },
     "execution_count": 22,
     "metadata": {},
     "output_type": "execute_result"
    }
   ],
   "source": [
    "model\n"
   ]
  },
  {
   "cell_type": "code",
   "execution_count": 7,
   "metadata": {},
   "outputs": [],
   "source": [
    "# # without earky stopping\n",
    "# import torch\n",
    "# from torch import nn, optim\n",
    "# from tqdm import tqdm\n",
    "# import matplotlib.pyplot as plt\n",
    "\n",
    "# # Loss function and optimizer\n",
    "# criterion = nn.CrossEntropyLoss()  # For multi-class classification\n",
    "# optimizer = optim.Adam(model.parameters(), lr=0.0001)\n",
    "\n",
    "# # Move the model to GPU if available\n",
    "# device = torch.device(\"cuda\" if torch.cuda.is_available() else \"cpu\")\n",
    "# print(f\"Training on: {device}\")\n",
    "# model.to(device)\n",
    "\n",
    "# # Training loop\n",
    "# num_epochs = 50  # Set your desired number of epochs\n",
    "\n",
    "# # For tracking accuracy and loss\n",
    "# train_acc_history = []\n",
    "# val_acc_history = []\n",
    "# train_loss_history = []\n",
    "# val_loss_history = []\n",
    "\n",
    "# best_accuracy = 0\n",
    "\n",
    "# for epoch in range(num_epochs):\n",
    "#     model.train()  # Set the model to training mode\n",
    "#     running_loss = 0.0\n",
    "#     correct_train = 0\n",
    "#     total_train = 0\n",
    "\n",
    "#     # Use tqdm for tracking batches inside the epoch\n",
    "#     progress_bar = tqdm(train_loader, desc=f'Epoch {epoch+1}/{num_epochs}')\n",
    "    \n",
    "#     for images, labels in progress_bar:\n",
    "#         # Move data to GPU if available\n",
    "#         images, labels = images.to(device), labels.to(device)\n",
    "        \n",
    "#         # Zero the parameter gradients\n",
    "#         optimizer.zero_grad()\n",
    "        \n",
    "#         # Forward pass\n",
    "#         outputs = model(images)\n",
    "#         loss = criterion(outputs, labels)\n",
    "        \n",
    "#         # Backward pass and optimization\n",
    "#         loss.backward()\n",
    "#         optimizer.step()\n",
    "        \n",
    "#         # Accumulate loss\n",
    "#         running_loss += loss.item()\n",
    "        \n",
    "#         # Predictions and accuracy calculation\n",
    "#         _, predicted = torch.max(outputs, 1)\n",
    "#         total_train += labels.size(0)\n",
    "#         correct_train += (predicted == labels).sum().item()\n",
    "        \n",
    "#         # Update the progress bar description with current loss\n",
    "#         progress_bar.set_postfix(loss=running_loss/len(train_loader))\n",
    "    \n",
    "#     # Calculate training accuracy and loss\n",
    "#     train_loss = running_loss / len(train_loader)\n",
    "#     train_accuracy = 100 * correct_train / total_train\n",
    "    \n",
    "#     # Append for later plotting\n",
    "#     train_acc_history.append(train_accuracy)\n",
    "#     train_loss_history.append(train_loss)\n",
    "\n",
    "#     # Validation phase\n",
    "#     model.eval()  # Set the model to evaluation mode\n",
    "#     correct_val = 0\n",
    "#     total_val = 0\n",
    "#     running_val_loss = 0.0\n",
    "    \n",
    "#     with torch.no_grad():\n",
    "#         for images, labels in val_loader:\n",
    "#             images, labels = images.to(device), labels.to(device)\n",
    "#             outputs = model(images)\n",
    "#             val_loss = criterion(outputs, labels)\n",
    "#             running_val_loss += val_loss.item()\n",
    "            \n",
    "#             _, predicted = torch.max(outputs, 1)\n",
    "#             total_val += labels.size(0)\n",
    "#             correct_val += (predicted == labels).sum().item()\n",
    "    \n",
    "#     # Calculate validation accuracy and loss\n",
    "#     val_loss = running_val_loss / len(val_loader)\n",
    "#     val_accuracy = 100 * correct_val / total_val\n",
    "    \n",
    "#     # Append for later plotting\n",
    "#     val_acc_history.append(val_accuracy)\n",
    "#     val_loss_history.append(val_loss)\n",
    "    \n",
    "#     # Print epoch statistics\n",
    "#     print(f'Epoch [{epoch+1}/{num_epochs}], Loss: {train_loss:.4f}, Accuracy: {train_accuracy:.2f}% | '\n",
    "#           f'Val Loss: {val_loss:.4f}, Val Accuracy: {val_accuracy:.2f}%')\n",
    "\n",
    "#     # Save the best model\n",
    "#     if val_accuracy > best_accuracy:\n",
    "#         torch.save(model.state_dict(), f\"best_model_epoch_{epoch+1}_val_acc_{val_accuracy:.2f}.pth\")\n",
    "#         print(f\"Best model saved with validation accuracy: {val_accuracy:.2f}% at epoch {epoch+1}\")\n",
    "#         best_accuracy = val_accuracy\n",
    "\n",
    "# # Plot training and validation accuracy\n",
    "# plt.figure(figsize=(12, 4))\n",
    "# plt.subplot(1, 2, 1)\n",
    "# plt.plot(train_acc_history, label='Train Accuracy')\n",
    "# plt.plot(val_acc_history, label='Validation Accuracy')\n",
    "# plt.xlabel('Epochs')\n",
    "# plt.ylabel('Accuracy')\n",
    "# plt.legend()\n",
    "\n",
    "# # Plot training and validation loss\n",
    "# plt.subplot(1, 2, 2)\n",
    "# plt.plot(train_loss_history, label='Train Loss')\n",
    "# plt.plot(val_loss_history, label='Validation Loss')\n",
    "# plt.xlabel('Epochs')\n",
    "# plt.ylabel('Loss')\n",
    "# plt.legend()\n",
    "\n",
    "# plt.show()"
   ]
  },
  {
   "cell_type": "code",
   "execution_count": 8,
   "metadata": {},
   "outputs": [
    {
     "name": "stdout",
     "output_type": "stream",
     "text": [
      "Training on: cpu\n"
     ]
    },
    {
     "name": "stderr",
     "output_type": "stream",
     "text": [
      "Epoch 1/50: 100%|██████████████████████████████████████████████████████████████████████████████████████████████████████████████████████████████████████████████████████████████| 252/252 [06:43<00:00,  1.60s/it, loss=1.32]\n"
     ]
    },
    {
     "name": "stdout",
     "output_type": "stream",
     "text": [
      "Epoch [1/50], Loss: 1.3230, Accuracy: 49.54% | Val Loss: 0.8136, Val Accuracy: 66.49%\n",
      "Best model saved with validation accuracy: 66.49% at epoch 1\n"
     ]
    },
    {
     "name": "stderr",
     "output_type": "stream",
     "text": [
      "Epoch 2/50: 100%|█████████████████████████████████████████████████████████████████████████████████████████████████████████████████████████████████████████████████████████████| 252/252 [05:38<00:00,  1.34s/it, loss=0.716]\n"
     ]
    },
    {
     "name": "stdout",
     "output_type": "stream",
     "text": [
      "Epoch [2/50], Loss: 0.7161, Accuracy: 70.08% | Val Loss: 0.5621, Val Accuracy: 76.56%\n",
      "Best model saved with validation accuracy: 76.56% at epoch 2\n"
     ]
    },
    {
     "name": "stderr",
     "output_type": "stream",
     "text": [
      "Epoch 3/50: 100%|█████████████████████████████████████████████████████████████████████████████████████████████████████████████████████████████████████████████████████████████| 252/252 [05:40<00:00,  1.35s/it, loss=0.556]\n"
     ]
    },
    {
     "name": "stdout",
     "output_type": "stream",
     "text": [
      "Epoch [3/50], Loss: 0.5558, Accuracy: 77.29% | Val Loss: 0.4541, Val Accuracy: 81.94%\n",
      "Best model saved with validation accuracy: 81.94% at epoch 3\n"
     ]
    },
    {
     "name": "stderr",
     "output_type": "stream",
     "text": [
      "Epoch 4/50: 100%|█████████████████████████████████████████████████████████████████████████████████████████████████████████████████████████████████████████████████████████████| 252/252 [05:39<00:00,  1.35s/it, loss=0.454]\n"
     ]
    },
    {
     "name": "stdout",
     "output_type": "stream",
     "text": [
      "Epoch [4/50], Loss: 0.4540, Accuracy: 81.46% | Val Loss: 0.4347, Val Accuracy: 81.60%\n"
     ]
    },
    {
     "name": "stderr",
     "output_type": "stream",
     "text": [
      "Epoch 5/50: 100%|█████████████████████████████████████████████████████████████████████████████████████████████████████████████████████████████████████████████████████████████| 252/252 [05:39<00:00,  1.35s/it, loss=0.397]\n"
     ]
    },
    {
     "name": "stdout",
     "output_type": "stream",
     "text": [
      "Epoch [5/50], Loss: 0.3972, Accuracy: 83.74% | Val Loss: 0.2913, Val Accuracy: 89.67%\n",
      "Best model saved with validation accuracy: 89.67% at epoch 5\n"
     ]
    },
    {
     "name": "stderr",
     "output_type": "stream",
     "text": [
      "Epoch 6/50: 100%|█████████████████████████████████████████████████████████████████████████████████████████████████████████████████████████████████████████████████████████████| 252/252 [05:40<00:00,  1.35s/it, loss=0.336]\n"
     ]
    },
    {
     "name": "stdout",
     "output_type": "stream",
     "text": [
      "Epoch [6/50], Loss: 0.3364, Accuracy: 86.78% | Val Loss: 0.2298, Val Accuracy: 91.58%\n",
      "Best model saved with validation accuracy: 91.58% at epoch 6\n"
     ]
    },
    {
     "name": "stderr",
     "output_type": "stream",
     "text": [
      "Epoch 7/50: 100%|█████████████████████████████████████████████████████████████████████████████████████████████████████████████████████████████████████████████████████████████| 252/252 [05:48<00:00,  1.38s/it, loss=0.303]\n"
     ]
    },
    {
     "name": "stdout",
     "output_type": "stream",
     "text": [
      "Epoch [7/50], Loss: 0.3031, Accuracy: 88.26% | Val Loss: 0.2819, Val Accuracy: 88.37%\n"
     ]
    },
    {
     "name": "stderr",
     "output_type": "stream",
     "text": [
      "Epoch 8/50: 100%|██████████████████████████████████████████████████████████████████████████████████████████████████████████████████████████████████████████████████████████████| 252/252 [05:48<00:00,  1.38s/it, loss=0.26]\n"
     ]
    },
    {
     "name": "stdout",
     "output_type": "stream",
     "text": [
      "Epoch [8/50], Loss: 0.2604, Accuracy: 90.12% | Val Loss: 0.2487, Val Accuracy: 89.93%\n"
     ]
    },
    {
     "name": "stderr",
     "output_type": "stream",
     "text": [
      "Epoch 9/50: 100%|█████████████████████████████████████████████████████████████████████████████████████████████████████████████████████████████████████████████████████████████| 252/252 [06:32<00:00,  1.56s/it, loss=0.227]\n"
     ]
    },
    {
     "name": "stdout",
     "output_type": "stream",
     "text": [
      "Epoch [9/50], Loss: 0.2269, Accuracy: 91.18% | Val Loss: 0.1611, Val Accuracy: 93.66%\n",
      "Best model saved with validation accuracy: 93.66% at epoch 9\n"
     ]
    },
    {
     "name": "stderr",
     "output_type": "stream",
     "text": [
      "Epoch 10/50: 100%|████████████████████████████████████████████████████████████████████████████████████████████████████████████████████████████████████████████████████████████| 252/252 [05:53<00:00,  1.40s/it, loss=0.224]\n"
     ]
    },
    {
     "name": "stdout",
     "output_type": "stream",
     "text": [
      "Epoch [10/50], Loss: 0.2243, Accuracy: 91.51% | Val Loss: 0.1595, Val Accuracy: 94.18%\n",
      "Best model saved with validation accuracy: 94.18% at epoch 10\n"
     ]
    },
    {
     "name": "stderr",
     "output_type": "stream",
     "text": [
      "Epoch 11/50: 100%|████████████████████████████████████████████████████████████████████████████████████████████████████████████████████████████████████████████████████████████| 252/252 [05:45<00:00,  1.37s/it, loss=0.194]\n"
     ]
    },
    {
     "name": "stdout",
     "output_type": "stream",
     "text": [
      "Epoch [11/50], Loss: 0.1943, Accuracy: 92.82% | Val Loss: 0.1474, Val Accuracy: 93.84%\n"
     ]
    },
    {
     "name": "stderr",
     "output_type": "stream",
     "text": [
      "Epoch 12/50: 100%|█████████████████████████████████████████████████████████████████████████████████████████████████████████████████████████████████████████████████████████████| 252/252 [05:44<00:00,  1.37s/it, loss=0.19]\n"
     ]
    },
    {
     "name": "stdout",
     "output_type": "stream",
     "text": [
      "Epoch [12/50], Loss: 0.1900, Accuracy: 92.89% | Val Loss: 0.1180, Val Accuracy: 95.92%\n",
      "Best model saved with validation accuracy: 95.92% at epoch 12\n"
     ]
    },
    {
     "name": "stderr",
     "output_type": "stream",
     "text": [
      "Epoch 13/50: 100%|████████████████████████████████████████████████████████████████████████████████████████████████████████████████████████████████████████████████████████████| 252/252 [05:45<00:00,  1.37s/it, loss=0.173]\n"
     ]
    },
    {
     "name": "stdout",
     "output_type": "stream",
     "text": [
      "Epoch [13/50], Loss: 0.1735, Accuracy: 93.44% | Val Loss: 0.1147, Val Accuracy: 94.97%\n"
     ]
    },
    {
     "name": "stderr",
     "output_type": "stream",
     "text": [
      "Epoch 14/50: 100%|████████████████████████████████████████████████████████████████████████████████████████████████████████████████████████████████████████████████████████████| 252/252 [05:43<00:00,  1.36s/it, loss=0.155]\n"
     ]
    },
    {
     "name": "stdout",
     "output_type": "stream",
     "text": [
      "Epoch [14/50], Loss: 0.1549, Accuracy: 94.28% | Val Loss: 0.1056, Val Accuracy: 95.75%\n"
     ]
    },
    {
     "name": "stderr",
     "output_type": "stream",
     "text": [
      "Epoch 15/50: 100%|████████████████████████████████████████████████████████████████████████████████████████████████████████████████████████████████████████████████████████████| 252/252 [05:42<00:00,  1.36s/it, loss=0.151]\n"
     ]
    },
    {
     "name": "stdout",
     "output_type": "stream",
     "text": [
      "Epoch [15/50], Loss: 0.1505, Accuracy: 94.52% | Val Loss: 0.1743, Val Accuracy: 93.23%\n"
     ]
    },
    {
     "name": "stderr",
     "output_type": "stream",
     "text": [
      "Epoch 16/50: 100%|████████████████████████████████████████████████████████████████████████████████████████████████████████████████████████████████████████████████████████████| 252/252 [05:43<00:00,  1.36s/it, loss=0.141]\n"
     ]
    },
    {
     "name": "stdout",
     "output_type": "stream",
     "text": [
      "Epoch [16/50], Loss: 0.1413, Accuracy: 94.75% | Val Loss: 0.1920, Val Accuracy: 92.62%\n"
     ]
    },
    {
     "name": "stderr",
     "output_type": "stream",
     "text": [
      "Epoch 17/50: 100%|████████████████████████████████████████████████████████████████████████████████████████████████████████████████████████████████████████████████████████████| 252/252 [05:41<00:00,  1.36s/it, loss=0.129]\n"
     ]
    },
    {
     "name": "stdout",
     "output_type": "stream",
     "text": [
      "Epoch [17/50], Loss: 0.1294, Accuracy: 95.15% | Val Loss: 0.1623, Val Accuracy: 92.88%\n",
      "Early stopping triggered after 17 epochs!\n"
     ]
    },
    {
     "data": {
      "image/png": "[encoded data removed]",
      "text/plain": [
       "<Figure size 1200x400 with 2 Axes>"
      ]
     },
     "metadata": {},
     "output_type": "display_data"
    }
   ],
   "source": [
    "# The rest of your training, validation, and testing code remains unchanged.\n",
    "import torch\n",
    "from torch import nn, optim\n",
    "from tqdm import tqdm\n",
    "import matplotlib.pyplot as plt\n",
    "\n",
    "# Loss function and optimizer\n",
    "criterion = nn.CrossEntropyLoss()  # For multi-class classification\n",
    "optimizer = optim.Adam(model.parameters(), lr=0.0001)\n",
    "\n",
    "# Move the model to GPU if available\n",
    "device = torch.device(\"cuda\" if torch.cuda.is_available() else \"cpu\")\n",
    "print(f\"Training on: {device}\")\n",
    "model.to(device)\n",
    "\n",
    "# Set up early stopping parameters\n",
    "patience = 5  # Stop training if the validation accuracy doesn't improve after 5 epochs\n",
    "early_stop_counter = 0  # Counts how many epochs have passed without improvement\n",
    "\n",
    "# Training loop\n",
    "num_epochs = 50  # Set your desired number of epochs\n",
    "\n",
    "# For tracking accuracy and loss\n",
    "train_acc_history = []\n",
    "val_acc_history = []\n",
    "train_loss_history = []\n",
    "val_loss_history = []\n",
    "\n",
    "best_accuracy = 0\n",
    "\n",
    "for epoch in range(num_epochs):\n",
    "    model.train()  # Set the model to training mode\n",
    "    running_loss = 0.0\n",
    "    correct_train = 0\n",
    "    total_train = 0\n",
    "\n",
    "    # Use tqdm for tracking batches inside the epoch\n",
    "    progress_bar = tqdm(train_loader, desc=f'Epoch {epoch+1}/{num_epochs}')\n",
    "    \n",
    "    for images, labels in progress_bar:\n",
    "        # Move data to GPU if available\n",
    "        images, labels = images.to(device), labels.to(device)\n",
    "        \n",
    "        # Zero the parameter gradients\n",
    "        optimizer.zero_grad()\n",
    "        \n",
    "        # Forward pass\n",
    "        outputs = model(images)\n",
    "        loss = criterion(outputs, labels)\n",
    "        \n",
    "        # Backward pass and optimization\n",
    "        loss.backward()\n",
    "        optimizer.step()\n",
    "        \n",
    "        # Accumulate loss\n",
    "        running_loss += loss.item()\n",
    "        \n",
    "        # Predictions and accuracy calculation\n",
    "        _, predicted = torch.max(outputs, 1)\n",
    "        total_train += labels.size(0)\n",
    "        correct_train += (predicted == labels).sum().item()\n",
    "        \n",
    "        # Update the progress bar description with current loss\n",
    "        progress_bar.set_postfix(loss=running_loss/len(train_loader))\n",
    "    \n",
    "    # Calculate training accuracy and loss\n",
    "    train_loss = running_loss / len(train_loader)\n",
    "    train_accuracy = 100 * correct_train / total_train\n",
    "    \n",
    "    # Append for later plotting\n",
    "    train_acc_history.append(train_accuracy)\n",
    "    train_loss_history.append(train_loss)\n",
    "\n",
    "    # Validation phase\n",
    "    model.eval()  # Set the model to evaluation mode\n",
    "    correct_val = 0\n",
    "    total_val = 0\n",
    "    running_val_loss = 0.0\n",
    "    \n",
    "    with torch.no_grad():\n",
    "        for images, labels in val_loader:\n",
    "            images, labels = images.to(device), labels.to(device)\n",
    "            outputs = model(images)\n",
    "            val_loss = criterion(outputs, labels)\n",
    "            running_val_loss += val_loss.item()\n",
    "            \n",
    "            _, predicted = torch.max(outputs, 1)\n",
    "            total_val += labels.size(0)\n",
    "            correct_val += (predicted == labels).sum().item()\n",
    "    \n",
    "    # Calculate validation accuracy and loss\n",
    "    val_loss = running_val_loss / len(val_loader)\n",
    "    val_accuracy = 100 * correct_val / total_val\n",
    "    \n",
    "    # Append for later plotting\n",
    "    val_acc_history.append(val_accuracy)\n",
    "    val_loss_history.append(val_loss)\n",
    "    \n",
    "    # Print epoch statistics\n",
    "    print(f'Epoch [{epoch+1}/{num_epochs}], Loss: {train_loss:.4f}, Accuracy: {train_accuracy:.2f}% | '\n",
    "          f'Val Loss: {val_loss:.4f}, Val Accuracy: {val_accuracy:.2f}%')\n",
    "\n",
    "    # Check for early stopping\n",
    "    if val_accuracy > best_accuracy:\n",
    "        torch.save(model.state_dict(), f\"best_model_epoch_{epoch+1}_val_acc_{val_accuracy:.2f}.pth\")\n",
    "        print(f\"Best model saved with validation accuracy: {val_accuracy:.2f}% at epoch {epoch+1}\")\n",
    "        best_accuracy = val_accuracy\n",
    "        early_stop_counter = 0  # Reset counter since we have an improvement\n",
    "    else:\n",
    "        early_stop_counter += 1  # No improvement, increment the counter\n",
    "        \n",
    "        if early_stop_counter >= patience:\n",
    "            print(f\"Early stopping triggered after {epoch+1} epochs!\")\n",
    "            break  # Exit the training loop if no improvement for 'patience' epochs\n",
    "\n",
    "# Plot training and validation accuracy\n",
    "plt.figure(figsize=(12, 4))\n",
    "plt.subplot(1, 2, 1)\n",
    "plt.plot(train_acc_history, label='Train Accuracy')\n",
    "plt.plot(val_acc_history, label='Validation Accuracy')\n",
    "plt.xlabel('Epochs')\n",
    "plt.ylabel('Accuracy')\n",
    "plt.legend()\n",
    "\n",
    "# Plot training and validation loss\n",
    "plt.subplot(1, 2, 2)\n",
    "plt.plot(train_loss_history, label='Train Loss')\n",
    "plt.plot(val_loss_history, label='Validation Loss')\n",
    "plt.xlabel('Epochs')\n",
    "plt.ylabel('Loss')\n",
    "plt.legend()\n",
    "\n",
    "plt.show()\n"
   ]
  },
  {
   "cell_type": "code",
   "execution_count": 23,
   "metadata": {},
   "outputs": [
    {
     "name": "stdout",
     "output_type": "stream",
     "text": [
      "Test dataset has 2304 samples.\n"
     ]
    }
   ],
   "source": [
    "# Import the time module\n",
    "from torchvision import datasets, transforms\n",
    "from torch.utils.data import DataLoader\n",
    "\n",
    "# Define the same transformations as used for validation/test\n",
    "val_test_transforms = transforms.Compose([\n",
    "    transforms.Resize((224, 224)),  # Resize to the same size as during training\n",
    "    transforms.ToTensor(),\n",
    "    transforms.Normalize(mean=[0.485, 0.456, 0.406], std=[0.229, 0.224, 0.225])  # Standard normalization\n",
    "])\n",
    "test_dir = r'E:\\PythonWithML\\demo\\dry-fruits-image\\Dry Fruit Image Dataset\\test'\n",
    "\n",
    "# Load the test dataset\n",
    "test_dataset = datasets.ImageFolder(root=test_dir, transform=val_test_transforms)\n",
    "\n",
    "# Create the test data loader\n",
    "test_loader = DataLoader(test_dataset, batch_size=32, shuffle=False, drop_last=True)\n",
    "\n",
    "# Print the size of the test dataset\n",
    "print(f\"Test dataset has {len(test_dataset)} samples.\")"
   ]
  },
  {
   "cell_type": "code",
   "execution_count": 27,
   "metadata": {},
   "outputs": [
    {
     "name": "stderr",
     "output_type": "stream",
     "text": [
      "C:\\Users\\Administrator\\AppData\\Local\\Temp\\ipykernel_9912\\123940815.py:32: FutureWarning: You are using `torch.load` with `weights_only=False` (the current default value), which uses the default pickle module implicitly. It is possible to construct malicious pickle data which will execute arbitrary code during unpickling (See https://github.com/pytorch/pytorch/blob/main/SECURITY.md#untrusted-models for more details). In a future release, the default value for `weights_only` will be flipped to `True`. This limits the functions that could be executed during unpickling. Arbitrary objects will no longer be allowed to be loaded via this mode unless they are explicitly allowlisted by the user via `torch.serialization.add_safe_globals`. We recommend you start setting `weights_only=True` for any use case where you don't have full control of the loaded file. Please open an issue on GitHub for any issues related to this experimental feature.\n",
      "  model.load_state_dict(torch.load(best_model_path))\n"
     ]
    },
    {
     "name": "stdout",
     "output_type": "stream",
     "text": [
      "Testing the best model on the test set...\n",
      "Test Accuracy: 88.41%\n",
      "Execution Time: 50.87 seconds\n"
     ]
    },
    {
     "data": {
      "text/plain": [
       "88.41145833333333"
      ]
     },
     "execution_count": 27,
     "metadata": {},
     "output_type": "execute_result"
    }
   ],
   "source": [
    "import time\n",
    "import torch\n",
    "\n",
    "# Function to test the model on the test dataset\n",
    "def test_model(model, test_loader, device):\n",
    "    model.eval()  # Set model to evaluation mode\n",
    "    correct_test = 0\n",
    "    total_test = 0\n",
    "\n",
    "    start_time = time.time()  # Start the timer\n",
    "    \n",
    "    with torch.no_grad():  # No need to compute gradients for testing\n",
    "        for images, labels in test_loader:\n",
    "            images, labels = images.to(device), labels.to(device)  # Move data to the appropriate device\n",
    "            outputs = model(images)  # Forward pass\n",
    "            _, predicted = torch.max(outputs, 1)  # Get the predicted class\n",
    "            total_test += labels.size(0)\n",
    "            correct_test += (predicted == labels).sum().item()  # Compare predictions with true labels\n",
    "    \n",
    "    test_accuracy = 100 * correct_test / total_test  # Calculate accuracy\n",
    "    end_time = time.time()  # End the timer\n",
    "    \n",
    "    # Calculate execution time\n",
    "    execution_time = end_time - start_time\n",
    "    print(f\"Test Accuracy: {test_accuracy:.2f}%\")\n",
    "    print(f\"Execution Time: {execution_time:.2f} seconds\")  # Print the execution time\n",
    "    \n",
    "    return test_accuracy\n",
    "\n",
    "# Load the best saved ShuffleNet model\n",
    "best_model_path = r\"E:\\PythonWithML\\demo\\SqueezeNet\\Final Run 3 Tranform2 Model 1_1\\best_model_epoch_10_val_acc_94.18.pth\"  # Replace this with your actual best model path\n",
    "model.load_state_dict(torch.load(best_model_path))\n",
    "model.to(device)\n",
    "\n",
    "# Test the model on the test dataset\n",
    "print(\"Testing the best model on the test set...\")\n",
    "test_model(model, test_loader, device)\n"
   ]
  },
  {
   "cell_type": "code",
   "execution_count": 30,
   "metadata": {},
   "outputs": [
    {
     "name": "stderr",
     "output_type": "stream",
     "text": [
      "C:\\Users\\Administrator\\AppData\\Local\\Temp\\ipykernel_9912\\1443573413.py:35: FutureWarning: You are using `torch.load` with `weights_only=False` (the current default value), which uses the default pickle module implicitly. It is possible to construct malicious pickle data which will execute arbitrary code during unpickling (See https://github.com/pytorch/pytorch/blob/main/SECURITY.md#untrusted-models for more details). In a future release, the default value for `weights_only` will be flipped to `True`. This limits the functions that could be executed during unpickling. Arbitrary objects will no longer be allowed to be loaded via this mode unless they are explicitly allowlisted by the user via `torch.serialization.add_safe_globals`. We recommend you start setting `weights_only=True` for any use case where you don't have full control of the loaded file. Please open an issue on GitHub for any issues related to this experimental feature.\n",
      "  model.load_state_dict(torch.load(best_model_path))\n"
     ]
    },
    {
     "name": "stdout",
     "output_type": "stream",
     "text": [
      "Testing the best model on the test set...\n",
      "Test Accuracy: 92.01%\n",
      "Execution Time: 51.09 seconds\n"
     ]
    },
    {
     "data": {
      "text/plain": [
       "92.01388888888889"
      ]
     },
     "execution_count": 30,
     "metadata": {},
     "output_type": "execute_result"
    }
   ],
   "source": [
    "import time\n",
    "import torch\n",
    "\n",
    "# Define the device (GPU if available, else CPU)\n",
    "device = torch.device('cuda' if torch.cuda.is_available() else 'cpu')\n",
    "\n",
    "# Function to test the model on the test dataset\n",
    "def test_model(model, test_loader, device):\n",
    "    model.eval()  # Set model to evaluation mode\n",
    "    correct_test = 0\n",
    "    total_test = 0\n",
    "\n",
    "    start_time = time.time()  # Start the timer\n",
    "    \n",
    "    with torch.no_grad():  # No need to compute gradients for testing\n",
    "        for images, labels in test_loader:\n",
    "            images, labels = images.to(device), labels.to(device)  # Move data to the appropriate device\n",
    "            outputs = model(images)  # Forward pass\n",
    "            _, predicted = torch.max(outputs, 1)  # Get the predicted class\n",
    "            total_test += labels.size(0)\n",
    "            correct_test += (predicted == labels).sum().item()  # Compare predictions with true labels\n",
    "    \n",
    "    test_accuracy = 100 * correct_test / total_test  # Calculate accuracy\n",
    "    end_time = time.time()  # End the timer\n",
    "    \n",
    "    # Calculate execution time\n",
    "    execution_time = end_time - start_time\n",
    "    print(f\"Test Accuracy: {test_accuracy:.2f}%\")\n",
    "    print(f\"Execution Time: {execution_time:.2f} seconds\")  # Print the execution time\n",
    "    \n",
    "    return test_accuracy\n",
    "\n",
    "# Load the best saved ShuffleNet model\n",
    "best_model_path = r\"E:\\PythonWithML\\demo\\SqueezeNet\\Final Run 3 Tranform2 Model 1_1\\best_model_epoch_12_val_acc_95.92.pth\"  # Replace this with your actual best model path\n",
    "model.load_state_dict(torch.load(best_model_path))\n",
    "model.to(device)\n",
    "\n",
    "# Test the model on the test dataset\n",
    "print(\"Testing the best model on the test set...\")\n",
    "test_model(model, test_loader, device)\n"
   ]
  },
  {
   "cell_type": "code",
   "execution_count": 16,
   "metadata": {},
   "outputs": [
    {
     "name": "stdout",
     "output_type": "stream",
     "text": [
      "Collecting seaborn\n",
      "  Downloading seaborn-0.13.2-py3-none-any.whl (294 kB)\n",
      "Requirement already satisfied: numpy!=1.24.0,>=1.20 in e:\\pythonwithml\\demo\\myenv\\lib\\site-packages (from seaborn) (2.1.2)\n",
      "Requirement already satisfied: matplotlib!=3.6.1,>=3.4 in e:\\pythonwithml\\demo\\myenv\\lib\\site-packages (from seaborn) (3.9.2)\n",
      "Collecting pandas>=1.2\n",
      "  Downloading pandas-2.2.3-cp310-cp310-win_amd64.whl (11.6 MB)\n",
      "Requirement already satisfied: contourpy>=1.0.1 in e:\\pythonwithml\\demo\\myenv\\lib\\site-packages (from matplotlib!=3.6.1,>=3.4->seaborn) (1.3.0)\n",
      "Requirement already satisfied: cycler>=0.10 in e:\\pythonwithml\\demo\\myenv\\lib\\site-packages (from matplotlib!=3.6.1,>=3.4->seaborn) (0.12.1)\n",
      "Requirement already satisfied: pyparsing>=2.3.1 in e:\\pythonwithml\\demo\\myenv\\lib\\site-packages (from matplotlib!=3.6.1,>=3.4->seaborn) (3.2.0)\n",
      "Requirement already satisfied: packaging>=20.0 in e:\\pythonwithml\\demo\\myenv\\lib\\site-packages (from matplotlib!=3.6.1,>=3.4->seaborn) (24.1)\n",
      "Requirement already satisfied: kiwisolver>=1.3.1 in e:\\pythonwithml\\demo\\myenv\\lib\\site-packages (from matplotlib!=3.6.1,>=3.4->seaborn) (1.4.7)\n",
      "Requirement already satisfied: python-dateutil>=2.7 in e:\\pythonwithml\\demo\\myenv\\lib\\site-packages (from matplotlib!=3.6.1,>=3.4->seaborn) (2.9.0.post0)\n",
      "Requirement already satisfied: fonttools>=4.22.0 in e:\\pythonwithml\\demo\\myenv\\lib\\site-packages (from matplotlib!=3.6.1,>=3.4->seaborn) (4.54.1)\n",
      "Requirement already satisfied: pillow>=8 in e:\\pythonwithml\\demo\\myenv\\lib\\site-packages (from matplotlib!=3.6.1,>=3.4->seaborn) (11.0.0)\n",
      "Collecting pytz>=2020.1\n",
      "  Downloading pytz-2024.2-py2.py3-none-any.whl (508 kB)\n",
      "Collecting tzdata>=2022.7\n",
      "  Downloading tzdata-2024.2-py2.py3-none-any.whl (346 kB)\n",
      "Requirement already satisfied: six>=1.5 in e:\\pythonwithml\\demo\\myenv\\lib\\site-packages (from python-dateutil>=2.7->matplotlib!=3.6.1,>=3.4->seaborn) (1.16.0)\n",
      "Installing collected packages: tzdata, pytz, pandas, seaborn\n",
      "Successfully installed pandas-2.2.3 pytz-2024.2 seaborn-0.13.2 tzdata-2024.2\n",
      "Note: you may need to restart the kernel to use updated packages.\n"
     ]
    },
    {
     "name": "stderr",
     "output_type": "stream",
     "text": [
      "WARNING: You are using pip version 21.2.3; however, version 24.2 is available.\n",
      "You should consider upgrading via the 'E:\\PythonWithML\\demo\\myenv\\Scripts\\python.exe -m pip install --upgrade pip' command.\n"
     ]
    }
   ],
   "source": [
    "pip install seaborn\n"
   ]
  },
  {
   "cell_type": "code",
   "execution_count": 13,
   "metadata": {},
   "outputs": [
    {
     "name": "stdout",
     "output_type": "stream",
     "text": [
      "Displaying the confusion matrix for the test set...\n"
     ]
    },
    {
     "data": {
      "image/png": "[encoded data removed]",
      "text/plain": [
       "<Figure size 1000x800 with 2 Axes>"
      ]
     },
     "metadata": {},
     "output_type": "display_data"
    }
   ],
   "source": [
    "# Function to test the model on the test dataset and display confusion matrix\n",
    "import seaborn as sns\n",
    "import matplotlib.pyplot as plt\n",
    "from sklearn.metrics import confusion_matrix\n",
    "import numpy as np\n",
    "\n",
    "def display_confusion_matrix(model, test_loader, device, class_names):\n",
    "    model.eval()  # Set model to evaluation mode\n",
    "    all_preds = []\n",
    "    all_labels = []\n",
    "\n",
    "    # Collect predictions and labels\n",
    "    with torch.no_grad():\n",
    "        for images, labels in test_loader:\n",
    "            images, labels = images.to(device), labels.to(device)\n",
    "            outputs = model(images)\n",
    "            _, predicted = torch.max(outputs, 1)\n",
    "            \n",
    "            # Store predictions and true labels for confusion matrix\n",
    "            all_preds.extend(predicted.cpu().numpy())\n",
    "            all_labels.extend(labels.cpu().numpy())\n",
    "\n",
    "    # Confusion matrix\n",
    "    cm = confusion_matrix(all_labels, all_preds)\n",
    "    \n",
    "    # Plot confusion matrix using seaborn\n",
    "    plt.figure(figsize=(10, 8))\n",
    "    sns.heatmap(cm, annot=True, fmt=\"d\", cmap=\"Blues\", xticklabels=class_names, yticklabels=class_names)\n",
    "    plt.title('Confusion Matrix')\n",
    "    plt.xlabel('Predicted Label')\n",
    "    plt.ylabel('True Label')\n",
    "    plt.show()\n",
    "\n",
    "# Class names for your dry fruits dataset\n",
    "class_names = ['ALMOND_MAMRA', 'ALMOND_REGULAR', 'ALMOND_SANORA', \n",
    "               'CASHEW_JUMBO', 'CASHEW_REGULAR', 'CASHEW_SPECIAL',\n",
    "               'FIG_JUMBO', 'FIG_MEDIUM', 'FIG_SMALL', \n",
    "               'RAISIN_BLACK', 'RAISIN_GRADE1', 'RAISIN_PREMIUM']\n",
    "\n",
    "# Test the model and display the confusion matrix\n",
    "print(\"Displaying the confusion matrix for the test set...\")\n",
    "display_confusion_matrix(model, test_loader, device, class_names)\n"
   ]
  },
  {
   "cell_type": "code",
   "execution_count": null,
   "metadata": {},
   "outputs": [],
   "source": []
  }
 ],
 "metadata": {
  "kernelspec": {
   "display_name": "Python 3 (ipykernel)",
   "language": "python",
   "name": "python3"
  },
  "language_info": {
   "codemirror_mode": {
    "name": "ipython",
    "version": 3
   },
   "file_extension": ".py",
   "mimetype": "text/x-python",
   "name": "python",
   "nbconvert_exporter": "python",
   "pygments_lexer": "ipython3",
   "version": "3.10.0"
  }
 },
 "nbformat": 4,
 "nbformat_minor": 4
}
